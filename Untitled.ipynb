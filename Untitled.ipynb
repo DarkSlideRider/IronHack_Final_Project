{
 "cells": [
  {
   "cell_type": "code",
   "execution_count": null,
   "id": "42a7cb83",
   "metadata": {},
   "outputs": [],
   "source": []
  },
  {
   "cell_type": "code",
   "execution_count": null,
   "id": "cb3d1075",
   "metadata": {},
   "outputs": [],
   "source": [
    "def get_input(): \n",
    "    comp_input = input(\"What company do you want to check? \")\n",
    "    comp_input = comp_input.lower()\n",
    "    return comp_input\n",
    "song_input = get_input()\n",
    "\n",
    "#Check if song is in large DB/ if input makes any sense\n",
    "def song_check_overall():\n",
    "    song_check0 = df_spotify[df_spotify['track_name'].str.contains(song_input)]\n",
    "    if len(song_check0) > 0:\n",
    "        return song_check0 \n",
    "    else:\n",
    "        get_input()\n",
    "song_check0 = song_check_overall()"
   ]
  }
 ],
 "metadata": {
  "kernelspec": {
   "display_name": "Python 3 (ipykernel)",
   "language": "python",
   "name": "python3"
  },
  "language_info": {
   "codemirror_mode": {
    "name": "ipython",
    "version": 3
   },
   "file_extension": ".py",
   "mimetype": "text/x-python",
   "name": "python",
   "nbconvert_exporter": "python",
   "pygments_lexer": "ipython3",
   "version": "3.9.7"
  }
 },
 "nbformat": 4,
 "nbformat_minor": 5
}
