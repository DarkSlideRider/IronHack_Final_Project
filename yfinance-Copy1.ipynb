{
 "cells": [
  {
   "cell_type": "code",
   "execution_count": null,
   "id": "bcbb586a",
   "metadata": {},
   "outputs": [],
   "source": [
    "# Try to append data to existing excel file, while checking first if file there try find file, \n",
    "# if found append excel method else create file\n",
    "# Create info essentials, test new info def\n",
    "# Check energy settings"
   ]
  },
  {
   "cell_type": "code",
   "execution_count": 1,
   "id": "87f7b5d0",
   "metadata": {},
   "outputs": [],
   "source": [
    "from random import randint\n",
    "from time import sleep\n",
    "import datetime\n",
    "import yfinance as yf\n",
    "import openpyxl\n",
    "import pandas as pd\n",
    "import numpy as np\n",
    "import seaborn as sns\n",
    "from sklearn.preprocessing import StandardScaler\n",
    "from sklearn.cluster import KMeans\n",
    "from sklearn.metrics import silhouette_score\n",
    "import matplotlib.pyplot as plt\n",
    "%matplotlib inline"
   ]
  },
  {
   "cell_type": "code",
   "execution_count": 2,
   "id": "37cb22c1",
   "metadata": {},
   "outputs": [],
   "source": [
    "# Def for reading the ticker file as csv: csv_ticker('filename.csv', 'columnname')\n",
    "def csv_ticker(csv_file, ticker_col):\n",
    "    df = pd.read_csv(csv_file)\n",
    "    df_tick = df[ticker_col].drop_duplicates(keep='first').dropna()\n",
    "    return df_tick\n",
    "\n",
    "# Def for reading the ticker file as xlsx: xlsx_ticker('filename.xlsx', 'columnname') returns \"df_tick\"\n",
    "def xlsx_ticker(xlsx_file, ticker_col):\n",
    "    df = pd.read_excel(xlsx_file)\n",
    "    df_tick = df[ticker_col].drop_duplicates(keep='first').dropna()\n",
    "    return df_tick\n",
    "\n",
    "# Def for reading collected data after preprocessing through “def info()“ and “def fin()“\n",
    "def csv_df(csv_file):\n",
    "    df = pd.read_csv(csv_file)\n",
    "    return df\n",
    "\n",
    "def xlsx_df(xlsx_file):\n",
    "    df = pd.read_excel(xlsx_file)\n",
    "    return df"
   ]
  },
  {
   "cell_type": "code",
   "execution_count": 3,
   "id": "aadfbd26",
   "metadata": {},
   "outputs": [],
   "source": [
    "# Analysis constists of 3 tables: stock advisor company info = df_1, \n",
    "# SnP500 company info = df_2, stock tips = df_adv\n",
    "df_1 = xlsx_df('test.info.xlsx')\n",
    "df_2 = csv_df('df_info_465_2021.10.04 21_31_53.csv')\n",
    "df_adv = csv_df('advisor stocks.csv')\n",
    "\n",
    "# Company info tables are appended\n",
    "df_1 = df_1.append(df_2)\n",
    "\n",
    "# Duplicates are dropped to join with stock tips df_adv\n",
    "df_1 = df_1.drop_duplicates(subset=['symbol'])\n",
    "df_1.shape\n",
    "\n",
    "\n",
    "# Stock tips df_adv has to be prepared for left join, renaming, drop duplicates\n",
    "\n",
    "# rename key_column\n",
    "df_adv = df_adv.rename(columns={'ticker': 'symbol', 'symbol':'symbol_'})\n",
    "\n",
    "# drop duplicates with same symbol/ ticker\n",
    "df_adv = df_adv.drop_duplicates(subset=['symbol'])\n",
    "df_adv\n",
    "\n",
    "# left join on 'symbol' getting columns 'status_advisor', 'date_advisor', 'price_when_advised', 'source_advisor'\n",
    "df_1 = pd.merge(df_1, df_adv[['symbol','status_advisor','date_advisor',\n",
    "                             'price_when_advised','source_advisor']],on='symbol', how='left')"
   ]
  },
  {
   "cell_type": "code",
   "execution_count": null,
   "id": "863a8a94",
   "metadata": {
    "scrolled": true
   },
   "outputs": [],
   "source": [
    "# Storing the result to prepare df for K-means\n",
    "now = datetime.datetime.now()\n",
    "now = now.strftime(\"%Y.%m.%d %H_%M_%S\")\n",
    "len_df_1 = str(len(df_1))\n",
    "#df_1.to_excel('df_1'+len_df+'_'+now+'.xlsx')"
   ]
  },
  {
   "cell_type": "code",
   "execution_count": 4,
   "id": "8c984175",
   "metadata": {},
   "outputs": [
    {
     "name": "stderr",
     "output_type": "stream",
     "text": [
      "/var/folders/5q/m0yt4w2n3279165l93qszgp00000gn/T/ipykernel_45036/3246516118.py:8: SettingWithCopyWarning: \n",
      "A value is trying to be set on a copy of a slice from a DataFrame.\n",
      "Try using .loc[row_indexer,col_indexer] = value instead\n",
      "\n",
      "See the caveats in the documentation: https://pandas.pydata.org/pandas-docs/stable/user_guide/indexing.html#returning-a-view-versus-a-copy\n",
      "  df_k['payoutRatio'] = df_k['payoutRatio'].fillna(0)\n"
     ]
    }
   ],
   "source": [
    "# Selecting columns for K-means clustering ('priceToBook', 'trailingAnnualDividendRate','debtToEquity',)\n",
    "df_k = df_1[['sector','city','state','country','industry','financialCurrency','shortName','longName','symbol',\n",
    "             'revenueGrowth', \n",
    "             'payoutRatio',  'trailingPE', 'marketCap',]]\n",
    "\n",
    "# Filling the dividend information with 0 instead of nan | Watch out warnings override if there is an error\n",
    "# df_k[['trailingAnnualDividendRate', 'payoutRatio']] = df_k[['trailingAnnualDividendRate', 'payoutRatio']].fillna(0)\n",
    "df_k['payoutRatio'] = df_k['payoutRatio'].fillna(0)\n",
    "\n",
    "# Dropping the other nan values for now\n",
    "df_k = df_k.dropna()\n",
    "\n",
    "# Taking the numerical columns --> select_dtypes(include=[np.number]).dtypes).\n",
    "# Storing the numerical df as X to move on with standardization, as the data is wide spread\n",
    "df_k_num = df_k.select_dtypes(include=['float64'])\n",
    "X = df_k_num"
   ]
  },
  {
   "cell_type": "code",
   "execution_count": 5,
   "id": "9c14ac61",
   "metadata": {},
   "outputs": [
    {
     "data": {
      "text/plain": [
       "(662, 4)"
      ]
     },
     "execution_count": 5,
     "metadata": {},
     "output_type": "execute_result"
    }
   ],
   "source": [
    "X.shape"
   ]
  },
  {
   "cell_type": "code",
   "execution_count": 6,
   "id": "1cc84e47",
   "metadata": {},
   "outputs": [
    {
     "ename": "KeyboardInterrupt",
     "evalue": "",
     "output_type": "error",
     "traceback": [
      "\u001b[0;31m---------------------------------------------------------------------------\u001b[0m",
      "\u001b[0;31mKeyboardInterrupt\u001b[0m                         Traceback (most recent call last)",
      "\u001b[0;32m/var/folders/5q/m0yt4w2n3279165l93qszgp00000gn/T/ipykernel_45036/2727264910.py\u001b[0m in \u001b[0;36m<module>\u001b[0;34m\u001b[0m\n\u001b[1;32m      1\u001b[0m \u001b[0msns\u001b[0m\u001b[0;34m.\u001b[0m\u001b[0mpairplot\u001b[0m\u001b[0;34m(\u001b[0m\u001b[0mX\u001b[0m\u001b[0;34m)\u001b[0m\u001b[0;34m\u001b[0m\u001b[0;34m\u001b[0m\u001b[0m\n\u001b[0;32m----> 2\u001b[0;31m \u001b[0mplt\u001b[0m\u001b[0;34m.\u001b[0m\u001b[0mshow\u001b[0m\u001b[0;34m(\u001b[0m\u001b[0;34m)\u001b[0m\u001b[0;34m\u001b[0m\u001b[0;34m\u001b[0m\u001b[0m\n\u001b[0m",
      "\u001b[0;32m~/opt/anaconda3/envs/DA_Env/lib/python3.9/site-packages/matplotlib/pyplot.py\u001b[0m in \u001b[0;36mshow\u001b[0;34m(*args, **kwargs)\u001b[0m\n\u001b[1;32m    376\u001b[0m     \"\"\"\n\u001b[1;32m    377\u001b[0m     \u001b[0m_warn_if_gui_out_of_main_thread\u001b[0m\u001b[0;34m(\u001b[0m\u001b[0;34m)\u001b[0m\u001b[0;34m\u001b[0m\u001b[0;34m\u001b[0m\u001b[0m\n\u001b[0;32m--> 378\u001b[0;31m     \u001b[0;32mreturn\u001b[0m \u001b[0m_backend_mod\u001b[0m\u001b[0;34m.\u001b[0m\u001b[0mshow\u001b[0m\u001b[0;34m(\u001b[0m\u001b[0;34m*\u001b[0m\u001b[0margs\u001b[0m\u001b[0;34m,\u001b[0m \u001b[0;34m**\u001b[0m\u001b[0mkwargs\u001b[0m\u001b[0;34m)\u001b[0m\u001b[0;34m\u001b[0m\u001b[0;34m\u001b[0m\u001b[0m\n\u001b[0m\u001b[1;32m    379\u001b[0m \u001b[0;34m\u001b[0m\u001b[0m\n\u001b[1;32m    380\u001b[0m \u001b[0;34m\u001b[0m\u001b[0m\n",
      "\u001b[0;32m~/opt/anaconda3/envs/DA_Env/lib/python3.9/site-packages/matplotlib_inline/backend_inline.py\u001b[0m in \u001b[0;36mshow\u001b[0;34m(close, block)\u001b[0m\n\u001b[1;32m     39\u001b[0m     \u001b[0;32mtry\u001b[0m\u001b[0;34m:\u001b[0m\u001b[0;34m\u001b[0m\u001b[0;34m\u001b[0m\u001b[0m\n\u001b[1;32m     40\u001b[0m         \u001b[0;32mfor\u001b[0m \u001b[0mfigure_manager\u001b[0m \u001b[0;32min\u001b[0m \u001b[0mGcf\u001b[0m\u001b[0;34m.\u001b[0m\u001b[0mget_all_fig_managers\u001b[0m\u001b[0;34m(\u001b[0m\u001b[0;34m)\u001b[0m\u001b[0;34m:\u001b[0m\u001b[0;34m\u001b[0m\u001b[0;34m\u001b[0m\u001b[0m\n\u001b[0;32m---> 41\u001b[0;31m             display(\n\u001b[0m\u001b[1;32m     42\u001b[0m                 \u001b[0mfigure_manager\u001b[0m\u001b[0;34m.\u001b[0m\u001b[0mcanvas\u001b[0m\u001b[0;34m.\u001b[0m\u001b[0mfigure\u001b[0m\u001b[0;34m,\u001b[0m\u001b[0;34m\u001b[0m\u001b[0;34m\u001b[0m\u001b[0m\n\u001b[1;32m     43\u001b[0m                 \u001b[0mmetadata\u001b[0m\u001b[0;34m=\u001b[0m\u001b[0m_fetch_figure_metadata\u001b[0m\u001b[0;34m(\u001b[0m\u001b[0mfigure_manager\u001b[0m\u001b[0;34m.\u001b[0m\u001b[0mcanvas\u001b[0m\u001b[0;34m.\u001b[0m\u001b[0mfigure\u001b[0m\u001b[0;34m)\u001b[0m\u001b[0;34m\u001b[0m\u001b[0;34m\u001b[0m\u001b[0m\n",
      "\u001b[0;32m~/opt/anaconda3/envs/DA_Env/lib/python3.9/site-packages/IPython/core/display.py\u001b[0m in \u001b[0;36mdisplay\u001b[0;34m(include, exclude, metadata, transient, display_id, *objs, **kwargs)\u001b[0m\n\u001b[1;32m    318\u001b[0m             \u001b[0mpublish_display_data\u001b[0m\u001b[0;34m(\u001b[0m\u001b[0mdata\u001b[0m\u001b[0;34m=\u001b[0m\u001b[0mobj\u001b[0m\u001b[0;34m,\u001b[0m \u001b[0mmetadata\u001b[0m\u001b[0;34m=\u001b[0m\u001b[0mmetadata\u001b[0m\u001b[0;34m,\u001b[0m \u001b[0;34m**\u001b[0m\u001b[0mkwargs\u001b[0m\u001b[0;34m)\u001b[0m\u001b[0;34m\u001b[0m\u001b[0;34m\u001b[0m\u001b[0m\n\u001b[1;32m    319\u001b[0m         \u001b[0;32melse\u001b[0m\u001b[0;34m:\u001b[0m\u001b[0;34m\u001b[0m\u001b[0;34m\u001b[0m\u001b[0m\n\u001b[0;32m--> 320\u001b[0;31m             \u001b[0mformat_dict\u001b[0m\u001b[0;34m,\u001b[0m \u001b[0mmd_dict\u001b[0m \u001b[0;34m=\u001b[0m \u001b[0mformat\u001b[0m\u001b[0;34m(\u001b[0m\u001b[0mobj\u001b[0m\u001b[0;34m,\u001b[0m \u001b[0minclude\u001b[0m\u001b[0;34m=\u001b[0m\u001b[0minclude\u001b[0m\u001b[0;34m,\u001b[0m \u001b[0mexclude\u001b[0m\u001b[0;34m=\u001b[0m\u001b[0mexclude\u001b[0m\u001b[0;34m)\u001b[0m\u001b[0;34m\u001b[0m\u001b[0;34m\u001b[0m\u001b[0m\n\u001b[0m\u001b[1;32m    321\u001b[0m             \u001b[0;32mif\u001b[0m \u001b[0;32mnot\u001b[0m \u001b[0mformat_dict\u001b[0m\u001b[0;34m:\u001b[0m\u001b[0;34m\u001b[0m\u001b[0;34m\u001b[0m\u001b[0m\n\u001b[1;32m    322\u001b[0m                 \u001b[0;31m# nothing to display (e.g. _ipython_display_ took over)\u001b[0m\u001b[0;34m\u001b[0m\u001b[0;34m\u001b[0m\u001b[0m\n",
      "\u001b[0;32m~/opt/anaconda3/envs/DA_Env/lib/python3.9/site-packages/IPython/core/formatters.py\u001b[0m in \u001b[0;36mformat\u001b[0;34m(self, obj, include, exclude)\u001b[0m\n\u001b[1;32m    178\u001b[0m             \u001b[0mmd\u001b[0m \u001b[0;34m=\u001b[0m \u001b[0;32mNone\u001b[0m\u001b[0;34m\u001b[0m\u001b[0;34m\u001b[0m\u001b[0m\n\u001b[1;32m    179\u001b[0m             \u001b[0;32mtry\u001b[0m\u001b[0;34m:\u001b[0m\u001b[0;34m\u001b[0m\u001b[0;34m\u001b[0m\u001b[0m\n\u001b[0;32m--> 180\u001b[0;31m                 \u001b[0mdata\u001b[0m \u001b[0;34m=\u001b[0m \u001b[0mformatter\u001b[0m\u001b[0;34m(\u001b[0m\u001b[0mobj\u001b[0m\u001b[0;34m)\u001b[0m\u001b[0;34m\u001b[0m\u001b[0;34m\u001b[0m\u001b[0m\n\u001b[0m\u001b[1;32m    181\u001b[0m             \u001b[0;32mexcept\u001b[0m\u001b[0;34m:\u001b[0m\u001b[0;34m\u001b[0m\u001b[0;34m\u001b[0m\u001b[0m\n\u001b[1;32m    182\u001b[0m                 \u001b[0;31m# FIXME: log the exception\u001b[0m\u001b[0;34m\u001b[0m\u001b[0;34m\u001b[0m\u001b[0m\n",
      "\u001b[0;32m~/opt/anaconda3/envs/DA_Env/lib/python3.9/site-packages/decorator.py\u001b[0m in \u001b[0;36mfun\u001b[0;34m(*args, **kw)\u001b[0m\n\u001b[1;32m    230\u001b[0m             \u001b[0;32mif\u001b[0m \u001b[0;32mnot\u001b[0m \u001b[0mkwsyntax\u001b[0m\u001b[0;34m:\u001b[0m\u001b[0;34m\u001b[0m\u001b[0;34m\u001b[0m\u001b[0m\n\u001b[1;32m    231\u001b[0m                 \u001b[0margs\u001b[0m\u001b[0;34m,\u001b[0m \u001b[0mkw\u001b[0m \u001b[0;34m=\u001b[0m \u001b[0mfix\u001b[0m\u001b[0;34m(\u001b[0m\u001b[0margs\u001b[0m\u001b[0;34m,\u001b[0m \u001b[0mkw\u001b[0m\u001b[0;34m,\u001b[0m \u001b[0msig\u001b[0m\u001b[0;34m)\u001b[0m\u001b[0;34m\u001b[0m\u001b[0;34m\u001b[0m\u001b[0m\n\u001b[0;32m--> 232\u001b[0;31m             \u001b[0;32mreturn\u001b[0m \u001b[0mcaller\u001b[0m\u001b[0;34m(\u001b[0m\u001b[0mfunc\u001b[0m\u001b[0;34m,\u001b[0m \u001b[0;34m*\u001b[0m\u001b[0;34m(\u001b[0m\u001b[0mextras\u001b[0m \u001b[0;34m+\u001b[0m \u001b[0margs\u001b[0m\u001b[0;34m)\u001b[0m\u001b[0;34m,\u001b[0m \u001b[0;34m**\u001b[0m\u001b[0mkw\u001b[0m\u001b[0;34m)\u001b[0m\u001b[0;34m\u001b[0m\u001b[0;34m\u001b[0m\u001b[0m\n\u001b[0m\u001b[1;32m    233\u001b[0m     \u001b[0mfun\u001b[0m\u001b[0;34m.\u001b[0m\u001b[0m__name__\u001b[0m \u001b[0;34m=\u001b[0m \u001b[0mfunc\u001b[0m\u001b[0;34m.\u001b[0m\u001b[0m__name__\u001b[0m\u001b[0;34m\u001b[0m\u001b[0;34m\u001b[0m\u001b[0m\n\u001b[1;32m    234\u001b[0m     \u001b[0mfun\u001b[0m\u001b[0;34m.\u001b[0m\u001b[0m__doc__\u001b[0m \u001b[0;34m=\u001b[0m \u001b[0mfunc\u001b[0m\u001b[0;34m.\u001b[0m\u001b[0m__doc__\u001b[0m\u001b[0;34m\u001b[0m\u001b[0;34m\u001b[0m\u001b[0m\n",
      "\u001b[0;32m~/opt/anaconda3/envs/DA_Env/lib/python3.9/site-packages/IPython/core/formatters.py\u001b[0m in \u001b[0;36mcatch_format_error\u001b[0;34m(method, self, *args, **kwargs)\u001b[0m\n\u001b[1;32m    222\u001b[0m     \u001b[0;34m\"\"\"show traceback on failed format call\"\"\"\u001b[0m\u001b[0;34m\u001b[0m\u001b[0;34m\u001b[0m\u001b[0m\n\u001b[1;32m    223\u001b[0m     \u001b[0;32mtry\u001b[0m\u001b[0;34m:\u001b[0m\u001b[0;34m\u001b[0m\u001b[0;34m\u001b[0m\u001b[0m\n\u001b[0;32m--> 224\u001b[0;31m         \u001b[0mr\u001b[0m \u001b[0;34m=\u001b[0m \u001b[0mmethod\u001b[0m\u001b[0;34m(\u001b[0m\u001b[0mself\u001b[0m\u001b[0;34m,\u001b[0m \u001b[0;34m*\u001b[0m\u001b[0margs\u001b[0m\u001b[0;34m,\u001b[0m \u001b[0;34m**\u001b[0m\u001b[0mkwargs\u001b[0m\u001b[0;34m)\u001b[0m\u001b[0;34m\u001b[0m\u001b[0;34m\u001b[0m\u001b[0m\n\u001b[0m\u001b[1;32m    225\u001b[0m     \u001b[0;32mexcept\u001b[0m \u001b[0mNotImplementedError\u001b[0m\u001b[0;34m:\u001b[0m\u001b[0;34m\u001b[0m\u001b[0;34m\u001b[0m\u001b[0m\n\u001b[1;32m    226\u001b[0m         \u001b[0;31m# don't warn on NotImplementedErrors\u001b[0m\u001b[0;34m\u001b[0m\u001b[0;34m\u001b[0m\u001b[0m\n",
      "\u001b[0;32m~/opt/anaconda3/envs/DA_Env/lib/python3.9/site-packages/IPython/core/formatters.py\u001b[0m in \u001b[0;36m__call__\u001b[0;34m(self, obj)\u001b[0m\n\u001b[1;32m    339\u001b[0m                 \u001b[0;32mpass\u001b[0m\u001b[0;34m\u001b[0m\u001b[0;34m\u001b[0m\u001b[0m\n\u001b[1;32m    340\u001b[0m             \u001b[0;32melse\u001b[0m\u001b[0;34m:\u001b[0m\u001b[0;34m\u001b[0m\u001b[0;34m\u001b[0m\u001b[0m\n\u001b[0;32m--> 341\u001b[0;31m                 \u001b[0;32mreturn\u001b[0m \u001b[0mprinter\u001b[0m\u001b[0;34m(\u001b[0m\u001b[0mobj\u001b[0m\u001b[0;34m)\u001b[0m\u001b[0;34m\u001b[0m\u001b[0;34m\u001b[0m\u001b[0m\n\u001b[0m\u001b[1;32m    342\u001b[0m             \u001b[0;31m# Finally look for special method names\u001b[0m\u001b[0;34m\u001b[0m\u001b[0;34m\u001b[0m\u001b[0m\n\u001b[1;32m    343\u001b[0m             \u001b[0mmethod\u001b[0m \u001b[0;34m=\u001b[0m \u001b[0mget_real_method\u001b[0m\u001b[0;34m(\u001b[0m\u001b[0mobj\u001b[0m\u001b[0;34m,\u001b[0m \u001b[0mself\u001b[0m\u001b[0;34m.\u001b[0m\u001b[0mprint_method\u001b[0m\u001b[0;34m)\u001b[0m\u001b[0;34m\u001b[0m\u001b[0;34m\u001b[0m\u001b[0m\n",
      "\u001b[0;32m~/opt/anaconda3/envs/DA_Env/lib/python3.9/site-packages/IPython/core/pylabtools.py\u001b[0m in \u001b[0;36m<lambda>\u001b[0;34m(fig)\u001b[0m\n\u001b[1;32m    251\u001b[0m \u001b[0;34m\u001b[0m\u001b[0m\n\u001b[1;32m    252\u001b[0m     \u001b[0;32mif\u001b[0m \u001b[0;34m'png'\u001b[0m \u001b[0;32min\u001b[0m \u001b[0mformats\u001b[0m\u001b[0;34m:\u001b[0m\u001b[0;34m\u001b[0m\u001b[0;34m\u001b[0m\u001b[0m\n\u001b[0;32m--> 253\u001b[0;31m         \u001b[0mpng_formatter\u001b[0m\u001b[0;34m.\u001b[0m\u001b[0mfor_type\u001b[0m\u001b[0;34m(\u001b[0m\u001b[0mFigure\u001b[0m\u001b[0;34m,\u001b[0m \u001b[0;32mlambda\u001b[0m \u001b[0mfig\u001b[0m\u001b[0;34m:\u001b[0m \u001b[0mprint_figure\u001b[0m\u001b[0;34m(\u001b[0m\u001b[0mfig\u001b[0m\u001b[0;34m,\u001b[0m \u001b[0;34m'png'\u001b[0m\u001b[0;34m,\u001b[0m \u001b[0;34m**\u001b[0m\u001b[0mkwargs\u001b[0m\u001b[0;34m)\u001b[0m\u001b[0;34m)\u001b[0m\u001b[0;34m\u001b[0m\u001b[0;34m\u001b[0m\u001b[0m\n\u001b[0m\u001b[1;32m    254\u001b[0m     \u001b[0;32mif\u001b[0m \u001b[0;34m'retina'\u001b[0m \u001b[0;32min\u001b[0m \u001b[0mformats\u001b[0m \u001b[0;32mor\u001b[0m \u001b[0;34m'png2x'\u001b[0m \u001b[0;32min\u001b[0m \u001b[0mformats\u001b[0m\u001b[0;34m:\u001b[0m\u001b[0;34m\u001b[0m\u001b[0;34m\u001b[0m\u001b[0m\n\u001b[1;32m    255\u001b[0m         \u001b[0mpng_formatter\u001b[0m\u001b[0;34m.\u001b[0m\u001b[0mfor_type\u001b[0m\u001b[0;34m(\u001b[0m\u001b[0mFigure\u001b[0m\u001b[0;34m,\u001b[0m \u001b[0;32mlambda\u001b[0m \u001b[0mfig\u001b[0m\u001b[0;34m:\u001b[0m \u001b[0mretina_figure\u001b[0m\u001b[0;34m(\u001b[0m\u001b[0mfig\u001b[0m\u001b[0;34m,\u001b[0m \u001b[0;34m**\u001b[0m\u001b[0mkwargs\u001b[0m\u001b[0;34m)\u001b[0m\u001b[0;34m)\u001b[0m\u001b[0;34m\u001b[0m\u001b[0;34m\u001b[0m\u001b[0m\n",
      "\u001b[0;32m~/opt/anaconda3/envs/DA_Env/lib/python3.9/site-packages/IPython/core/pylabtools.py\u001b[0m in \u001b[0;36mprint_figure\u001b[0;34m(fig, fmt, bbox_inches, **kwargs)\u001b[0m\n\u001b[1;32m    135\u001b[0m         \u001b[0mFigureCanvasBase\u001b[0m\u001b[0;34m(\u001b[0m\u001b[0mfig\u001b[0m\u001b[0;34m)\u001b[0m\u001b[0;34m\u001b[0m\u001b[0;34m\u001b[0m\u001b[0m\n\u001b[1;32m    136\u001b[0m \u001b[0;34m\u001b[0m\u001b[0m\n\u001b[0;32m--> 137\u001b[0;31m     \u001b[0mfig\u001b[0m\u001b[0;34m.\u001b[0m\u001b[0mcanvas\u001b[0m\u001b[0;34m.\u001b[0m\u001b[0mprint_figure\u001b[0m\u001b[0;34m(\u001b[0m\u001b[0mbytes_io\u001b[0m\u001b[0;34m,\u001b[0m \u001b[0;34m**\u001b[0m\u001b[0mkw\u001b[0m\u001b[0;34m)\u001b[0m\u001b[0;34m\u001b[0m\u001b[0;34m\u001b[0m\u001b[0m\n\u001b[0m\u001b[1;32m    138\u001b[0m     \u001b[0mdata\u001b[0m \u001b[0;34m=\u001b[0m \u001b[0mbytes_io\u001b[0m\u001b[0;34m.\u001b[0m\u001b[0mgetvalue\u001b[0m\u001b[0;34m(\u001b[0m\u001b[0;34m)\u001b[0m\u001b[0;34m\u001b[0m\u001b[0;34m\u001b[0m\u001b[0m\n\u001b[1;32m    139\u001b[0m     \u001b[0;32mif\u001b[0m \u001b[0mfmt\u001b[0m \u001b[0;34m==\u001b[0m \u001b[0;34m'svg'\u001b[0m\u001b[0;34m:\u001b[0m\u001b[0;34m\u001b[0m\u001b[0;34m\u001b[0m\u001b[0m\n",
      "\u001b[0;32m~/opt/anaconda3/envs/DA_Env/lib/python3.9/site-packages/matplotlib/backend_bases.py\u001b[0m in \u001b[0;36mprint_figure\u001b[0;34m(self, filename, dpi, facecolor, edgecolor, orientation, format, bbox_inches, pad_inches, bbox_extra_artists, backend, **kwargs)\u001b[0m\n\u001b[1;32m   2232\u001b[0m             \u001b[0;32mif\u001b[0m \u001b[0mbbox_inches\u001b[0m\u001b[0;34m:\u001b[0m\u001b[0;34m\u001b[0m\u001b[0;34m\u001b[0m\u001b[0m\n\u001b[1;32m   2233\u001b[0m                 \u001b[0;32mif\u001b[0m \u001b[0mbbox_inches\u001b[0m \u001b[0;34m==\u001b[0m \u001b[0;34m\"tight\"\u001b[0m\u001b[0;34m:\u001b[0m\u001b[0;34m\u001b[0m\u001b[0;34m\u001b[0m\u001b[0m\n\u001b[0;32m-> 2234\u001b[0;31m                     bbox_inches = self.figure.get_tightbbox(\n\u001b[0m\u001b[1;32m   2235\u001b[0m                         renderer, bbox_extra_artists=bbox_extra_artists)\n\u001b[1;32m   2236\u001b[0m                     \u001b[0;32mif\u001b[0m \u001b[0mpad_inches\u001b[0m \u001b[0;32mis\u001b[0m \u001b[0;32mNone\u001b[0m\u001b[0;34m:\u001b[0m\u001b[0;34m\u001b[0m\u001b[0;34m\u001b[0m\u001b[0m\n",
      "\u001b[0;32m~/opt/anaconda3/envs/DA_Env/lib/python3.9/site-packages/matplotlib/figure.py\u001b[0m in \u001b[0;36mget_tightbbox\u001b[0;34m(self, renderer, bbox_extra_artists)\u001b[0m\n\u001b[1;32m   1634\u001b[0m \u001b[0;34m\u001b[0m\u001b[0m\n\u001b[1;32m   1635\u001b[0m         \u001b[0;32mfor\u001b[0m \u001b[0ma\u001b[0m \u001b[0;32min\u001b[0m \u001b[0martists\u001b[0m\u001b[0;34m:\u001b[0m\u001b[0;34m\u001b[0m\u001b[0;34m\u001b[0m\u001b[0m\n\u001b[0;32m-> 1636\u001b[0;31m             \u001b[0mbbox\u001b[0m \u001b[0;34m=\u001b[0m \u001b[0ma\u001b[0m\u001b[0;34m.\u001b[0m\u001b[0mget_tightbbox\u001b[0m\u001b[0;34m(\u001b[0m\u001b[0mrenderer\u001b[0m\u001b[0;34m)\u001b[0m\u001b[0;34m\u001b[0m\u001b[0;34m\u001b[0m\u001b[0m\n\u001b[0m\u001b[1;32m   1637\u001b[0m             \u001b[0;32mif\u001b[0m \u001b[0mbbox\u001b[0m \u001b[0;32mis\u001b[0m \u001b[0;32mnot\u001b[0m \u001b[0;32mNone\u001b[0m \u001b[0;32mand\u001b[0m \u001b[0;34m(\u001b[0m\u001b[0mbbox\u001b[0m\u001b[0;34m.\u001b[0m\u001b[0mwidth\u001b[0m \u001b[0;34m!=\u001b[0m \u001b[0;36m0\u001b[0m \u001b[0;32mor\u001b[0m \u001b[0mbbox\u001b[0m\u001b[0;34m.\u001b[0m\u001b[0mheight\u001b[0m \u001b[0;34m!=\u001b[0m \u001b[0;36m0\u001b[0m\u001b[0;34m)\u001b[0m\u001b[0;34m:\u001b[0m\u001b[0;34m\u001b[0m\u001b[0;34m\u001b[0m\u001b[0m\n\u001b[1;32m   1638\u001b[0m                 \u001b[0mbb\u001b[0m\u001b[0;34m.\u001b[0m\u001b[0mappend\u001b[0m\u001b[0;34m(\u001b[0m\u001b[0mbbox\u001b[0m\u001b[0;34m)\u001b[0m\u001b[0;34m\u001b[0m\u001b[0;34m\u001b[0m\u001b[0m\n",
      "\u001b[0;32m~/opt/anaconda3/envs/DA_Env/lib/python3.9/site-packages/matplotlib/axes/_base.py\u001b[0m in \u001b[0;36mget_tightbbox\u001b[0;34m(self, renderer, call_axes_locator, bbox_extra_artists, for_layout_only)\u001b[0m\n\u001b[1;32m   4482\u001b[0m                     \u001b[0;31m# this artist\u001b[0m\u001b[0;34m\u001b[0m\u001b[0;34m\u001b[0m\u001b[0m\n\u001b[1;32m   4483\u001b[0m                     \u001b[0;32mcontinue\u001b[0m\u001b[0;34m\u001b[0m\u001b[0;34m\u001b[0m\u001b[0m\n\u001b[0;32m-> 4484\u001b[0;31m             \u001b[0mbbox\u001b[0m \u001b[0;34m=\u001b[0m \u001b[0ma\u001b[0m\u001b[0;34m.\u001b[0m\u001b[0mget_tightbbox\u001b[0m\u001b[0;34m(\u001b[0m\u001b[0mrenderer\u001b[0m\u001b[0;34m)\u001b[0m\u001b[0;34m\u001b[0m\u001b[0;34m\u001b[0m\u001b[0m\n\u001b[0m\u001b[1;32m   4485\u001b[0m             if (bbox is not None\n\u001b[1;32m   4486\u001b[0m                     \u001b[0;32mand\u001b[0m \u001b[0;36m0\u001b[0m \u001b[0;34m<\u001b[0m \u001b[0mbbox\u001b[0m\u001b[0;34m.\u001b[0m\u001b[0mwidth\u001b[0m \u001b[0;34m<\u001b[0m \u001b[0mnp\u001b[0m\u001b[0;34m.\u001b[0m\u001b[0minf\u001b[0m\u001b[0;34m\u001b[0m\u001b[0;34m\u001b[0m\u001b[0m\n",
      "\u001b[0;32m~/opt/anaconda3/envs/DA_Env/lib/python3.9/site-packages/matplotlib/artist.py\u001b[0m in \u001b[0;36mget_tightbbox\u001b[0;34m(self, renderer)\u001b[0m\n\u001b[1;32m    304\u001b[0m             \u001b[0mThe\u001b[0m \u001b[0menclosing\u001b[0m \u001b[0mbounding\u001b[0m \u001b[0mbox\u001b[0m \u001b[0;34m(\u001b[0m\u001b[0;32min\u001b[0m \u001b[0mfigure\u001b[0m \u001b[0mpixel\u001b[0m \u001b[0mcoordinates\u001b[0m\u001b[0;34m)\u001b[0m\u001b[0;34m.\u001b[0m\u001b[0;34m\u001b[0m\u001b[0;34m\u001b[0m\u001b[0m\n\u001b[1;32m    305\u001b[0m         \"\"\"\n\u001b[0;32m--> 306\u001b[0;31m         \u001b[0mbbox\u001b[0m \u001b[0;34m=\u001b[0m \u001b[0mself\u001b[0m\u001b[0;34m.\u001b[0m\u001b[0mget_window_extent\u001b[0m\u001b[0;34m(\u001b[0m\u001b[0mrenderer\u001b[0m\u001b[0;34m)\u001b[0m\u001b[0;34m\u001b[0m\u001b[0;34m\u001b[0m\u001b[0m\n\u001b[0m\u001b[1;32m    307\u001b[0m         \u001b[0;32mif\u001b[0m \u001b[0mself\u001b[0m\u001b[0;34m.\u001b[0m\u001b[0mget_clip_on\u001b[0m\u001b[0;34m(\u001b[0m\u001b[0;34m)\u001b[0m\u001b[0;34m:\u001b[0m\u001b[0;34m\u001b[0m\u001b[0;34m\u001b[0m\u001b[0m\n\u001b[1;32m    308\u001b[0m             \u001b[0mclip_box\u001b[0m \u001b[0;34m=\u001b[0m \u001b[0mself\u001b[0m\u001b[0;34m.\u001b[0m\u001b[0mget_clip_box\u001b[0m\u001b[0;34m(\u001b[0m\u001b[0;34m)\u001b[0m\u001b[0;34m\u001b[0m\u001b[0;34m\u001b[0m\u001b[0m\n",
      "\u001b[0;32m~/opt/anaconda3/envs/DA_Env/lib/python3.9/site-packages/matplotlib/patches.py\u001b[0m in \u001b[0;36mget_window_extent\u001b[0;34m(self, renderer)\u001b[0m\n\u001b[1;32m    619\u001b[0m \u001b[0;34m\u001b[0m\u001b[0m\n\u001b[1;32m    620\u001b[0m     \u001b[0;32mdef\u001b[0m \u001b[0mget_window_extent\u001b[0m\u001b[0;34m(\u001b[0m\u001b[0mself\u001b[0m\u001b[0;34m,\u001b[0m \u001b[0mrenderer\u001b[0m\u001b[0;34m=\u001b[0m\u001b[0;32mNone\u001b[0m\u001b[0;34m)\u001b[0m\u001b[0;34m:\u001b[0m\u001b[0;34m\u001b[0m\u001b[0;34m\u001b[0m\u001b[0m\n\u001b[0;32m--> 621\u001b[0;31m         \u001b[0;32mreturn\u001b[0m \u001b[0mself\u001b[0m\u001b[0;34m.\u001b[0m\u001b[0mget_path\u001b[0m\u001b[0;34m(\u001b[0m\u001b[0;34m)\u001b[0m\u001b[0;34m.\u001b[0m\u001b[0mget_extents\u001b[0m\u001b[0;34m(\u001b[0m\u001b[0mself\u001b[0m\u001b[0;34m.\u001b[0m\u001b[0mget_transform\u001b[0m\u001b[0;34m(\u001b[0m\u001b[0;34m)\u001b[0m\u001b[0;34m)\u001b[0m\u001b[0;34m\u001b[0m\u001b[0;34m\u001b[0m\u001b[0m\n\u001b[0m\u001b[1;32m    622\u001b[0m \u001b[0;34m\u001b[0m\u001b[0m\n\u001b[1;32m    623\u001b[0m     \u001b[0;32mdef\u001b[0m \u001b[0m_convert_xy_units\u001b[0m\u001b[0;34m(\u001b[0m\u001b[0mself\u001b[0m\u001b[0;34m,\u001b[0m \u001b[0mxy\u001b[0m\u001b[0;34m)\u001b[0m\u001b[0;34m:\u001b[0m\u001b[0;34m\u001b[0m\u001b[0;34m\u001b[0m\u001b[0m\n",
      "\u001b[0;32m~/opt/anaconda3/envs/DA_Env/lib/python3.9/site-packages/matplotlib/path.py\u001b[0m in \u001b[0;36mget_extents\u001b[0;34m(self, transform, **kwargs)\u001b[0m\n\u001b[1;32m    615\u001b[0m         \u001b[0;32mfrom\u001b[0m \u001b[0;34m.\u001b[0m\u001b[0mtransforms\u001b[0m \u001b[0;32mimport\u001b[0m \u001b[0mBbox\u001b[0m\u001b[0;34m\u001b[0m\u001b[0;34m\u001b[0m\u001b[0m\n\u001b[1;32m    616\u001b[0m         \u001b[0;32mif\u001b[0m \u001b[0mtransform\u001b[0m \u001b[0;32mis\u001b[0m \u001b[0;32mnot\u001b[0m \u001b[0;32mNone\u001b[0m\u001b[0;34m:\u001b[0m\u001b[0;34m\u001b[0m\u001b[0;34m\u001b[0m\u001b[0m\n\u001b[0;32m--> 617\u001b[0;31m             \u001b[0mself\u001b[0m \u001b[0;34m=\u001b[0m \u001b[0mtransform\u001b[0m\u001b[0;34m.\u001b[0m\u001b[0mtransform_path\u001b[0m\u001b[0;34m(\u001b[0m\u001b[0mself\u001b[0m\u001b[0;34m)\u001b[0m\u001b[0;34m\u001b[0m\u001b[0;34m\u001b[0m\u001b[0m\n\u001b[0m\u001b[1;32m    618\u001b[0m         \u001b[0;32mif\u001b[0m \u001b[0mself\u001b[0m\u001b[0;34m.\u001b[0m\u001b[0mcodes\u001b[0m \u001b[0;32mis\u001b[0m \u001b[0;32mNone\u001b[0m\u001b[0;34m:\u001b[0m\u001b[0;34m\u001b[0m\u001b[0;34m\u001b[0m\u001b[0m\n\u001b[1;32m    619\u001b[0m             \u001b[0mxys\u001b[0m \u001b[0;34m=\u001b[0m \u001b[0mself\u001b[0m\u001b[0;34m.\u001b[0m\u001b[0mvertices\u001b[0m\u001b[0;34m\u001b[0m\u001b[0;34m\u001b[0m\u001b[0m\n",
      "\u001b[0;32m~/opt/anaconda3/envs/DA_Env/lib/python3.9/site-packages/matplotlib/transforms.py\u001b[0m in \u001b[0;36mtransform_path\u001b[0;34m(self, path)\u001b[0m\n\u001b[1;32m   1573\u001b[0m         \u001b[0mthat\u001b[0m \u001b[0mbegan\u001b[0m \u001b[0;32mas\u001b[0m \u001b[0mline\u001b[0m \u001b[0msegments\u001b[0m\u001b[0;34m.\u001b[0m\u001b[0;34m\u001b[0m\u001b[0;34m\u001b[0m\u001b[0m\n\u001b[1;32m   1574\u001b[0m         \"\"\"\n\u001b[0;32m-> 1575\u001b[0;31m         \u001b[0;32mreturn\u001b[0m \u001b[0mself\u001b[0m\u001b[0;34m.\u001b[0m\u001b[0mtransform_path_affine\u001b[0m\u001b[0;34m(\u001b[0m\u001b[0mself\u001b[0m\u001b[0;34m.\u001b[0m\u001b[0mtransform_path_non_affine\u001b[0m\u001b[0;34m(\u001b[0m\u001b[0mpath\u001b[0m\u001b[0;34m)\u001b[0m\u001b[0;34m)\u001b[0m\u001b[0;34m\u001b[0m\u001b[0;34m\u001b[0m\u001b[0m\n\u001b[0m\u001b[1;32m   1576\u001b[0m \u001b[0;34m\u001b[0m\u001b[0m\n\u001b[1;32m   1577\u001b[0m     \u001b[0;32mdef\u001b[0m \u001b[0mtransform_path_affine\u001b[0m\u001b[0;34m(\u001b[0m\u001b[0mself\u001b[0m\u001b[0;34m,\u001b[0m \u001b[0mpath\u001b[0m\u001b[0;34m)\u001b[0m\u001b[0;34m:\u001b[0m\u001b[0;34m\u001b[0m\u001b[0;34m\u001b[0m\u001b[0m\n",
      "\u001b[0;32m~/opt/anaconda3/envs/DA_Env/lib/python3.9/site-packages/matplotlib/transforms.py\u001b[0m in \u001b[0;36mtransform_path_affine\u001b[0;34m(self, path)\u001b[0m\n\u001b[1;32m   1583\u001b[0m         \u001b[0;31m`\u001b[0m\u001b[0;31m`\u001b[0m\u001b[0mtransform_path_affine\u001b[0m\u001b[0;34m(\u001b[0m\u001b[0mtransform_path_non_affine\u001b[0m\u001b[0;34m(\u001b[0m\u001b[0mvalues\u001b[0m\u001b[0;34m)\u001b[0m\u001b[0;34m)\u001b[0m\u001b[0;31m`\u001b[0m\u001b[0;31m`\u001b[0m\u001b[0;34m.\u001b[0m\u001b[0;34m\u001b[0m\u001b[0;34m\u001b[0m\u001b[0m\n\u001b[1;32m   1584\u001b[0m         \"\"\"\n\u001b[0;32m-> 1585\u001b[0;31m         \u001b[0;32mreturn\u001b[0m \u001b[0mself\u001b[0m\u001b[0;34m.\u001b[0m\u001b[0mget_affine\u001b[0m\u001b[0;34m(\u001b[0m\u001b[0;34m)\u001b[0m\u001b[0;34m.\u001b[0m\u001b[0mtransform_path_affine\u001b[0m\u001b[0;34m(\u001b[0m\u001b[0mpath\u001b[0m\u001b[0;34m)\u001b[0m\u001b[0;34m\u001b[0m\u001b[0;34m\u001b[0m\u001b[0m\n\u001b[0m\u001b[1;32m   1586\u001b[0m \u001b[0;34m\u001b[0m\u001b[0m\n\u001b[1;32m   1587\u001b[0m     \u001b[0;32mdef\u001b[0m \u001b[0mtransform_path_non_affine\u001b[0m\u001b[0;34m(\u001b[0m\u001b[0mself\u001b[0m\u001b[0;34m,\u001b[0m \u001b[0mpath\u001b[0m\u001b[0;34m)\u001b[0m\u001b[0;34m:\u001b[0m\u001b[0;34m\u001b[0m\u001b[0;34m\u001b[0m\u001b[0m\n",
      "\u001b[0;32m~/opt/anaconda3/envs/DA_Env/lib/python3.9/site-packages/matplotlib/transforms.py\u001b[0m in \u001b[0;36mtransform_path_affine\u001b[0;34m(self, path)\u001b[0m\n\u001b[1;32m   1780\u001b[0m     \u001b[0;32mdef\u001b[0m \u001b[0mtransform_path_affine\u001b[0m\u001b[0;34m(\u001b[0m\u001b[0mself\u001b[0m\u001b[0;34m,\u001b[0m \u001b[0mpath\u001b[0m\u001b[0;34m)\u001b[0m\u001b[0;34m:\u001b[0m\u001b[0;34m\u001b[0m\u001b[0;34m\u001b[0m\u001b[0m\n\u001b[1;32m   1781\u001b[0m         \u001b[0;31m# docstring inherited\u001b[0m\u001b[0;34m\u001b[0m\u001b[0;34m\u001b[0m\u001b[0m\n\u001b[0;32m-> 1782\u001b[0;31m         return Path(self.transform_affine(path.vertices),\n\u001b[0m\u001b[1;32m   1783\u001b[0m                     path.codes, path._interpolation_steps)\n\u001b[1;32m   1784\u001b[0m \u001b[0;34m\u001b[0m\u001b[0m\n",
      "\u001b[0;32m~/opt/anaconda3/envs/DA_Env/lib/python3.9/site-packages/matplotlib/path.py\u001b[0m in \u001b[0;36m__init__\u001b[0;34m(self, vertices, codes, _interpolation_steps, closed, readonly)\u001b[0m\n\u001b[1;32m    127\u001b[0m         \"\"\"\n\u001b[1;32m    128\u001b[0m         \u001b[0mvertices\u001b[0m \u001b[0;34m=\u001b[0m \u001b[0m_to_unmasked_float_array\u001b[0m\u001b[0;34m(\u001b[0m\u001b[0mvertices\u001b[0m\u001b[0;34m)\u001b[0m\u001b[0;34m\u001b[0m\u001b[0;34m\u001b[0m\u001b[0m\n\u001b[0;32m--> 129\u001b[0;31m         \u001b[0m_api\u001b[0m\u001b[0;34m.\u001b[0m\u001b[0mcheck_shape\u001b[0m\u001b[0;34m(\u001b[0m\u001b[0;34m(\u001b[0m\u001b[0;32mNone\u001b[0m\u001b[0;34m,\u001b[0m \u001b[0;36m2\u001b[0m\u001b[0;34m)\u001b[0m\u001b[0;34m,\u001b[0m \u001b[0mvertices\u001b[0m\u001b[0;34m=\u001b[0m\u001b[0mvertices\u001b[0m\u001b[0;34m)\u001b[0m\u001b[0;34m\u001b[0m\u001b[0;34m\u001b[0m\u001b[0m\n\u001b[0m\u001b[1;32m    130\u001b[0m \u001b[0;34m\u001b[0m\u001b[0m\n\u001b[1;32m    131\u001b[0m         \u001b[0;32mif\u001b[0m \u001b[0mcodes\u001b[0m \u001b[0;32mis\u001b[0m \u001b[0;32mnot\u001b[0m \u001b[0;32mNone\u001b[0m\u001b[0;34m:\u001b[0m\u001b[0;34m\u001b[0m\u001b[0;34m\u001b[0m\u001b[0m\n",
      "\u001b[0;32m~/opt/anaconda3/envs/DA_Env/lib/python3.9/site-packages/matplotlib/_api/__init__.py\u001b[0m in \u001b[0;36mcheck_shape\u001b[0;34m(_shape, **kwargs)\u001b[0m\n\u001b[1;32m    148\u001b[0m     \"\"\"\n\u001b[1;32m    149\u001b[0m     \u001b[0mtarget_shape\u001b[0m \u001b[0;34m=\u001b[0m \u001b[0m_shape\u001b[0m\u001b[0;34m\u001b[0m\u001b[0;34m\u001b[0m\u001b[0m\n\u001b[0;32m--> 150\u001b[0;31m     \u001b[0;32mfor\u001b[0m \u001b[0mk\u001b[0m\u001b[0;34m,\u001b[0m \u001b[0mv\u001b[0m \u001b[0;32min\u001b[0m \u001b[0mkwargs\u001b[0m\u001b[0;34m.\u001b[0m\u001b[0mitems\u001b[0m\u001b[0;34m(\u001b[0m\u001b[0;34m)\u001b[0m\u001b[0;34m:\u001b[0m\u001b[0;34m\u001b[0m\u001b[0;34m\u001b[0m\u001b[0m\n\u001b[0m\u001b[1;32m    151\u001b[0m         \u001b[0mdata_shape\u001b[0m \u001b[0;34m=\u001b[0m \u001b[0mv\u001b[0m\u001b[0;34m.\u001b[0m\u001b[0mshape\u001b[0m\u001b[0;34m\u001b[0m\u001b[0;34m\u001b[0m\u001b[0m\n\u001b[1;32m    152\u001b[0m \u001b[0;34m\u001b[0m\u001b[0m\n",
      "\u001b[0;31mKeyboardInterrupt\u001b[0m: "
     ]
    }
   ],
   "source": [
    "sns.pairplot(X)\n",
    "plt.show()"
   ]
  },
  {
   "cell_type": "code",
   "execution_count": null,
   "id": "a75e5f5d",
   "metadata": {},
   "outputs": [],
   "source": [
    "# 1. Scaling features\n",
    "\n",
    "scaler = StandardScaler()\n",
    "scaler.fit(X)\n",
    "X_scaled = scaler.transform(X)\n",
    "X_scaled_df = pd.DataFrame(X_scaled, columns = X.columns)\n",
    "display(X.head())\n",
    "print()\n",
    "display(X_scaled_df.head())\n",
    "X_scaled_df.describe()"
   ]
  },
  {
   "cell_type": "code",
   "execution_count": null,
   "id": "5cc1c9dc",
   "metadata": {},
   "outputs": [],
   "source": []
  },
  {
   "cell_type": "code",
   "execution_count": null,
   "id": "4046bffe",
   "metadata": {},
   "outputs": [],
   "source": [
    "# Defining the KMeans https://scikit-learn.org/stable/modules/generated/sklearn.cluster.KMeans.html\n",
    "kmeans = KMeans(n_clusters=8, init=\"k-means++\", n_init=100, max_iter=300, tol=0, algorithm=\"elkan\", \n",
    "                random_state=1234)\n",
    "kmeans.fit(X_scaled_df)\n",
    "\n",
    "print(len(kmeans.labels_))\n",
    "\n",
    "# assign a cluster to each example\n",
    "labels = kmeans.predict(X_scaled_df)\n",
    "\n",
    "# retrieve unique clusters\n",
    "clusters = np.unique(labels)\n",
    "\n",
    "# create scatter plot for samples from each cluster\n",
    "for cluster in clusters:\n",
    "    # get row indexes for samples with this cluster\n",
    "    row_ix = np.where(labels == cluster)\n",
    "    # create scatter of these samples\n",
    "    plt.scatter(X.to_numpy()[row_ix, 1], X.to_numpy()[row_ix, 2])\n",
    "\n",
    "# show the plot\n",
    "plt.show()"
   ]
  },
  {
   "cell_type": "code",
   "execution_count": null,
   "id": "3eea0ce1",
   "metadata": {},
   "outputs": [],
   "source": [
    "# Review clusters and observations per cluster\n",
    "clusters = kmeans.predict(X_scaled_df)\n",
    "#clusters\n",
    "pd.Series(clusters).value_counts().sort_index()"
   ]
  },
  {
   "cell_type": "code",
   "execution_count": null,
   "id": "d2b47a4f",
   "metadata": {},
   "outputs": [],
   "source": [
    "# Assigning back the clusters to the companies\n",
    "\n",
    "#X_df = pd.DataFrame(X)\n",
    "df_k[\"cluster\"] = clusters\n",
    "df_k.head()"
   ]
  },
  {
   "cell_type": "code",
   "execution_count": null,
   "id": "a7b2af25",
   "metadata": {},
   "outputs": [],
   "source": [
    "# Parameter tuning - first checking the inertia, then checking different settings\n",
    "print('inertia of kmeans1:',kmeans.inertia_)\n",
    "\n",
    "kmeans2 = KMeans(n_clusters=8,\n",
    "                init=\"k-means++\",\n",
    "                n_init=100,  # try with 1, 4, 8, 20, 30, 100...\n",
    "                max_iter=20,\n",
    "                tol=0,\n",
    "                algorithm=\"elkan\",\n",
    "                random_state=1234)\n",
    "kmeans2.fit(X_scaled_df)\n",
    "print('inertia of kmeans2:',kmeans2.inertia_)"
   ]
  },
  {
   "cell_type": "code",
   "execution_count": null,
   "id": "140047b2",
   "metadata": {},
   "outputs": [],
   "source": [
    "# Finding k with the elbow method\n",
    "\n",
    "K = range(2, 20)\n",
    "inertia = []\n",
    "\n",
    "for k in K:\n",
    "    kmeans = KMeans(n_clusters=k,\n",
    "                    random_state=1234)\n",
    "    kmeans.fit(X_scaled_df)\n",
    "    inertia.append(kmeans.inertia_)\n",
    "\n",
    "plt.figure(figsize=(18,10))\n",
    "plt.plot(K, inertia, 'bx-')\n",
    "plt.xlabel('k')\n",
    "plt.ylabel('inertia')\n",
    "plt.xticks(np.arange(min(K), max(K)+1, 1.0))\n",
    "plt.title('Elbow Method displaying the optimal k')"
   ]
  },
  {
   "cell_type": "code",
   "execution_count": null,
   "id": "e8cf15a6",
   "metadata": {},
   "outputs": [],
   "source": [
    "# Finding k with the Silhouette Method\n",
    "\n",
    "K = range(2, 20)\n",
    "silhouette = []\n",
    "\n",
    "for k in K:\n",
    "    kmeans = KMeans(n_clusters=k,\n",
    "                    random_state=1234)\n",
    "    kmeans.fit(X_scaled_df)\n",
    "    silhouette.append(silhouette_score(X_scaled_df, kmeans.predict(X_scaled_df)))\n",
    "\n",
    "plt.figure(figsize=(18,10))\n",
    "plt.plot(K, silhouette, 'bx-')\n",
    "plt.xlabel('k')\n",
    "plt.ylabel('silhouette score')\n",
    "plt.xticks(np.arange(min(K), max(K)+1, 1.0))\n",
    "plt.title('Silhouette Method displaying the optimal k')"
   ]
  },
  {
   "cell_type": "code",
   "execution_count": null,
   "id": "7e106e78",
   "metadata": {},
   "outputs": [],
   "source": [
    "# TESTING with samples\n",
    "# splitting dataframe by row index to create test samples for data downloading\n",
    "df_1 = df_tick.iloc[:5]\n",
    "df_2 = df_tick.iloc[5:] # tested 20-50 (did not work). works until 46, 49-50 works fine 9-50 are missing now\n",
    "df_3 = df_tick.iloc[51:100]\n",
    "df_3 = df_tick.iloc[101:200]\n",
    "df_4 = df_tick.iloc[201:]\n",
    "print(\"Shape of new dataframes - {} , {} , {} , {}\".format(df_1.shape, df_2.shape, df_3.shape, df_4.shape))"
   ]
  },
  {
   "cell_type": "code",
   "execution_count": null,
   "id": "91507890",
   "metadata": {},
   "outputs": [],
   "source": [
    "#Example tickers: ticker_list = ['BZ6.F',\t'DUE.DE',\t'EXL.DE',\t'COP.DE',\t'NFN.DE',\t'MED.SW',\n",
    "#                'SAP.DE',\t'EVT.DE',\t'AAG.DE',\t'LPK.DE',\t'OSP2.DE',\t'ADN1.DE',\t'SHF.DE',\t\n",
    "#               'SANT.DE',\t'AOF.DE'] # example list\n",
    "# Dict. ticker_info_dict has to be created to store information coming from .info function\n",
    "# Within dict. values have to be iterable (lists, tuples, dict., sets) values returned from .info have to be \n",
    "# transformed into list. List of 308 ticker took circa 25 min.\n",
    "\n",
    "def info(df):\n",
    "    ticker_info_dict = {}\n",
    "    ticker_info_dict2 = {}\n",
    "    info_list = []\n",
    "    total_number = 0\n",
    "    total_passed = 0\n",
    "    \n",
    "    for tick in df:\n",
    "        try:\n",
    "            ticker_item = yf.Ticker(tick)\n",
    "            ticker_info_dict = ticker_item.info\n",
    "            print('Starting to loop through dict. of', tick)\n",
    "\n",
    "            for key, value in ticker_info_dict.items():\n",
    "                ticker_info_dict2[key] = [value]\n",
    "\n",
    "            a = pd.DataFrame.from_dict(ticker_info_dict2)\n",
    "            info_list.append(a)\n",
    "               \n",
    "            total_number = total_number + 1\n",
    "            print('Nr: ' + str(total_number), tick)\n",
    "        except Exception as e:\n",
    "            total_passed = total_passed + 1\n",
    "            print('Nr: ' + str(total_passed), tick, 'Passed!', e)\n",
    "            #passed_df.append(tick, e)\n",
    "            #passed_df.append([ticker, e]) # e text of exception, to understand reason why passed\n",
    "            pass\n",
    "    df_info = pd.concat(info_list, sort=False)  # transform info_list into df\n",
    "    df_info.fillna(0)\n",
    "    \n",
    "    \n",
    "    print('Start saving stock data...')\n",
    "\n",
    "    #Create variables for specific naming of file, to not overwrite data\n",
    "    #Later file shall be overwritten or appended for purpose of updating\n",
    "    now = datetime.datetime.now()\n",
    "    now = now.strftime(\"%Y.%m.%d %H_%M_%S\")\n",
    "    len_df = str(len(df))\n",
    "\n",
    "    df_info.to_csv('df_info_'+len_df+'_'+now+'.csv')\n",
    "\n",
    "    print('Stock data saved!')"
   ]
  },
  {
   "cell_type": "code",
   "execution_count": null,
   "id": "09cde613",
   "metadata": {},
   "outputs": [],
   "source": [
    "def fin(df):\n",
    "        balance_list = []\n",
    "        cashflow_list = []\n",
    "        financials_list = []\n",
    "        total_number = 0\n",
    "        total_passed = 0\n",
    "        passed_df = []\n",
    "        \n",
    "        for tick in df:\n",
    "            try:\n",
    "                ticker = yf.Ticker(tick)\n",
    "                a = ticker.balancesheet.T   # T stands for transpose\n",
    "                if a.index.dtype.kind == 'M':  # Check if ticker is valid, if no data can be found then index.dtype\n",
    "                                               # is an object and index is filled \n",
    "                                               # with ['Open', 'High', 'Low', 'Close', 'Adj Close', 'Volume']\n",
    "                    a.insert(0, 'ticker', tick)\n",
    "                    b = ticker.cashflow.T\n",
    "                    b.insert(0, 'ticker', tick)\n",
    "                    c = ticker.financials.T\n",
    "                    c.insert(0, 'ticker', tick)\n",
    "\n",
    "                    balance_list.append(a)\n",
    "                    cashflow_list.append(b)\n",
    "                    financials_list.append(c)\n",
    "\n",
    "                    total_number = total_number + 1\n",
    "                    print('Nr: ' + str(total_number), tick)\n",
    "                else:\n",
    "                    total_passed = total_passed + 1\n",
    "                    print('Nr: ' + str(total_passed), tick, \n",
    "                          'Passed! Ticker is empty or has no datetime index with index.dtype:', a.index.dtype)\n",
    "            except Exception as e:\n",
    "                total_passed = total_passed + 1\n",
    "                print('Nr: ' + str(total_passed), tick, 'Passed!', e)\n",
    "                #passed_df.append(tick, e)\n",
    "                #passed_df.append([ticker, e]) # e text of exception, to understand reason why passed\n",
    "                pass\n",
    "\n",
    "        df_balance = pd.concat(balance_list, sort=False)\n",
    "        df_balance.insert(1, 'Date', pd.DatetimeIndex(df_balance.index).date) # Add try except for date column issue\n",
    "        df_balance.fillna(0)\n",
    "\n",
    "        df_cashflow = pd.concat(cashflow_list, sort=False)\n",
    "        df_cashflow.insert(1, 'Date', pd.DatetimeIndex(df_cashflow.index).date)\n",
    "        df_cashflow.fillna(0)\n",
    "\n",
    "        df_financials = pd.concat(financials_list, sort=False)\n",
    "        df_financials.insert(1, 'Date', pd.DatetimeIndex(df_financials.index).date)\n",
    "        df_financials.fillna(0)\n",
    "        try:\n",
    "            df_passed = pd.concat(passed_df, sort=False)\n",
    "        except Exception as e:\n",
    "            print(e)\n",
    "            pass\n",
    "        print('Start saving stock data...')\n",
    "        #df_pass = pd.DataFrame(Screener.globalpass, index=None, columns={'Ticker', 'Error'})\n",
    "        \n",
    "        #Create variables for specific naming of the files, to not overwrite data\n",
    "        #Later files shall be overwritten or appended for purpose of updating\n",
    "        now = datetime.datetime.now()\n",
    "        now = now.strftime(\"%Y.%m.%d %H_%M_%S\")\n",
    "        len_df = str(len(df))\n",
    "        \n",
    "        df_balance.to_csv('balance_'+len_df+'_'+now+'.csv')\n",
    "        df_cashflow.to_csv('cashflow_'+len_df+'_'+now+'.csv')\n",
    "        df_financials.to_csv('financials_'+len_df+'_'+now+'.csv')\n",
    "        \n",
    "        print('Stock data saved!')\n",
    "        \n",
    "        #Writer not needed, as analysis will be conducted with CSV format\n",
    "        #writer = pd.ExcelWriter('merge.xlsx')\n",
    "        #df_balance.to_excel(writer, 'Balances', index=False)\n",
    "        #df_cashflow.to_excel(writer, 'Cashflows', index=False)\n",
    "        #df_financials.to_excel(writer, 'Financials', index=False)\n",
    "        #writer.save()"
   ]
  },
  {
   "cell_type": "code",
   "execution_count": null,
   "id": "9d8ef8d4",
   "metadata": {},
   "outputs": [],
   "source": [
    "df_tick = xlsx_ticker('SnP500_open.xlsx', 'ticker')\n",
    "df_tick"
   ]
  },
  {
   "cell_type": "code",
   "execution_count": null,
   "id": "686c6b8b",
   "metadata": {},
   "outputs": [],
   "source": [
    "info(df_tick)"
   ]
  },
  {
   "cell_type": "code",
   "execution_count": null,
   "id": "f42d2e52",
   "metadata": {},
   "outputs": [],
   "source": [
    "fin(df_tick)"
   ]
  },
  {
   "cell_type": "code",
   "execution_count": null,
   "id": "c6d7085b",
   "metadata": {},
   "outputs": [],
   "source": [
    "def info_essentials(df)\n",
    "    ticker_info_dict = {}\n",
    "    ticker_info_dict2 = {}\n",
    "    info_list = []\n",
    "    total_number = 0\n",
    "    total_passed = 0\n",
    "    \n",
    "    for tick in df:\n",
    "        try:\n",
    "            ticker_item = yf.Ticker(tick)\n",
    "            ticker_info_dict = ticker_item.info # define here the few needed items to speed up the download\n",
    "            print('Starting to loop through dict. of', tick)\n",
    "\n",
    "            for key, value in ticker_info_dict.items():\n",
    "                ticker_info_dict2[key] = [value]\n",
    "\n",
    "            a = pd.DataFrame.from_dict(ticker_info_dict2)\n",
    "            info_list.append(a)\n",
    "               \n",
    "            total_number = total_number + 1\n",
    "            print('Nr: ' + str(total_number), tick)\n",
    "        \n",
    "        except Exception as e:\n",
    "            total_passed = total_passed + 1\n",
    "            print('Nr: ' + str(total_passed), tick, 'Passed!', e)\n",
    "            #passed_df.append(tick, e)\n",
    "            #passed_df.append([ticker, e]) # e text of exception, to understand reason why passed\n",
    "            pass\n",
    "        \n",
    "    df_info = pd.concat(info_list, sort=False)  # transform info_list into df\n",
    "    df_info.fillna(0)\n",
    "    df_info.to_excel('test.info.xlsx')"
   ]
  },
  {
   "cell_type": "code",
   "execution_count": null,
   "id": "f496fb49",
   "metadata": {},
   "outputs": [],
   "source": []
  },
  {
   "cell_type": "code",
   "execution_count": null,
   "id": "01064e55",
   "metadata": {},
   "outputs": [],
   "source": [
    "# Within dict. values have to be iterable (lists, tuples, dict., sets)\n",
    "#df = pd.DataFrame(data=dic_msft)\n",
    "dic2 = {}\n",
    "for key, value in dic_msft.items():\n",
    "    dic_msft[key] = [value]"
   ]
  },
  {
   "cell_type": "code",
   "execution_count": null,
   "id": "4f905072",
   "metadata": {
    "scrolled": true
   },
   "outputs": [],
   "source": [
    "df_msft = pd.DataFrame.from_dict(dic_msft)"
   ]
  },
  {
   "cell_type": "code",
   "execution_count": null,
   "id": "f08d2422",
   "metadata": {},
   "outputs": [],
   "source": [
    "df_msft"
   ]
  },
  {
   "cell_type": "code",
   "execution_count": null,
   "id": "eebe9c8a",
   "metadata": {},
   "outputs": [],
   "source": [
    "df_msft.to_excel(\"msft.info.xlsx\")"
   ]
  },
  {
   "cell_type": "code",
   "execution_count": null,
   "id": "bb875b9f",
   "metadata": {},
   "outputs": [],
   "source": [
    "# show income statement\n",
    "dic_msft_fin={}\n",
    "#dic_msft_fin = msft.financials\n",
    "#msft.quarterly_financials\n",
    "\n",
    "# show balance heet\n",
    "dic_msft_bal={}\n",
    "dic_msft_bal=msft.balance_sheet\n",
    "msft.quarterly_balance_sheet\n",
    "\n",
    "# show cashflow\n",
    "dic_msft_cash={}\n",
    "#dic_msft_cash=msft.cashflow\n",
    "#msft.quarterly_cashflow\n",
    "\n",
    "# show earnings\n",
    "msft.earnings\n",
    "msft.quarterly_earnings\n",
    "\n",
    "# show sustainability\n",
    "msft_profile=msft.sustainability\n",
    "\n",
    "# show analysts recommendations\n",
    "msft.recommendations\n",
    "\n",
    "# show major holders\n",
    "msft.major_holders\n",
    "\n",
    "# show institutional holders\n",
    "msft.institutional_holders"
   ]
  },
  {
   "cell_type": "code",
   "execution_count": null,
   "id": "3cfe8b74",
   "metadata": {},
   "outputs": [],
   "source": [
    "# df['symbol']\n",
    "# user input = 'AAPL'\n",
    "# df.loc[df['symbol']==user input]\n",
    "# if len(df.loc[df['symbol']==user input]) ==1\n",
    "#    print('The following company was found:')\n",
    "#    elif len(df.loc[df['symbol']==user input]) > 1\n",
    "# df = df.loc\n",
    "    "
   ]
  },
  {
   "cell_type": "code",
   "execution_count": null,
   "id": "93063708",
   "metadata": {},
   "outputs": [],
   "source": [
    "# Selection idea\n",
    "def user_selection():\n",
    "    for index, item in enumerate(options):\n",
    "                print(f\"Option {index + 1} - {item}\")\n",
    "            while True:\n",
    "                try: # Is used to avoid errors\n",
    "                    choice = int(input(\"Selection: \"))\n",
    "                    if choice >= 1 and choice <= len(options):\n",
    "                        return options[choice-1]\n",
    "                except:\n",
    "                    continue"
   ]
  }
 ],
 "metadata": {
  "kernelspec": {
   "display_name": "Python 3 (ipykernel)",
   "language": "python",
   "name": "python3"
  },
  "language_info": {
   "codemirror_mode": {
    "name": "ipython",
    "version": 3
   },
   "file_extension": ".py",
   "mimetype": "text/x-python",
   "name": "python",
   "nbconvert_exporter": "python",
   "pygments_lexer": "ipython3",
   "version": "3.9.7"
  }
 },
 "nbformat": 4,
 "nbformat_minor": 5
}
