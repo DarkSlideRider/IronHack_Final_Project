{
 "cells": [
  {
   "cell_type": "code",
   "execution_count": 1,
   "id": "1abc17e9",
   "metadata": {},
   "outputs": [],
   "source": [
    "from IPython.display import Image\n",
    "import time\n",
    "from time import sleep\n",
    "import datetime\n",
    "import pandas as pd\n",
    "import numpy as np\n",
    "import openpyxl\n",
    "from mystockrec import xlsx_df, export_xlsx, data_load_user_input"
   ]
  },
  {
   "cell_type": "markdown",
   "id": "596a203e",
   "metadata": {},
   "source": [
    "# Stock Recommender Demo"
   ]
  },
  {
   "cell_type": "markdown",
   "id": "37716528",
   "metadata": {},
   "source": [
    "![title](stockrec.png)"
   ]
  },
  {
   "cell_type": "code",
   "execution_count": null,
   "id": "c574e005",
   "metadata": {},
   "outputs": [],
   "source": [
    "data_load_user_input()"
   ]
  },
  {
   "cell_type": "code",
   "execution_count": null,
   "id": "7643e229",
   "metadata": {},
   "outputs": [],
   "source": []
  }
 ],
 "metadata": {
  "kernelspec": {
   "display_name": "Python 3 (ipykernel)",
   "language": "python",
   "name": "python3"
  },
  "language_info": {
   "codemirror_mode": {
    "name": "ipython",
    "version": 3
   },
   "file_extension": ".py",
   "mimetype": "text/x-python",
   "name": "python",
   "nbconvert_exporter": "python",
   "pygments_lexer": "ipython3",
   "version": "3.9.7"
  }
 },
 "nbformat": 4,
 "nbformat_minor": 5
}
