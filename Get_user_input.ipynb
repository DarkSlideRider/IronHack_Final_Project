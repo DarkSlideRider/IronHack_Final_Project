{
 "cells": [
  {
   "cell_type": "code",
   "execution_count": 18,
   "id": "48a446bd",
   "metadata": {},
   "outputs": [],
   "source": [
    "from random import randint\n",
    "from time import sleep\n",
    "import datetime\n",
    "import yfinance as yf\n",
    "import openpyxl\n",
    "import pandas as pd\n",
    "import numpy as np\n",
    "import seaborn as sns\n",
    "from sklearn.preprocessing import StandardScaler\n",
    "from sklearn.cluster import KMeans\n",
    "from sklearn.metrics import silhouette_score\n",
    "import matplotlib.pyplot as plt\n",
    "%matplotlib inline\n",
    "from mystockrec import xlsx_df"
   ]
  },
  {
   "cell_type": "code",
   "execution_count": 23,
   "id": "fb85953a",
   "metadata": {},
   "outputs": [
    {
     "data": {
      "text/plain": [
       "0    1\n",
       "1    3\n",
       "2    4\n",
       "3    5\n",
       "Name: Unnamed: 0, dtype: int64"
      ]
     },
     "metadata": {},
     "output_type": "display_data"
    },
    {
     "data": {
      "text/html": [
       "<div>\n",
       "<style scoped>\n",
       "    .dataframe tbody tr th:only-of-type {\n",
       "        vertical-align: middle;\n",
       "    }\n",
       "\n",
       "    .dataframe tbody tr th {\n",
       "        vertical-align: top;\n",
       "    }\n",
       "\n",
       "    .dataframe thead th {\n",
       "        text-align: right;\n",
       "    }\n",
       "</style>\n",
       "<table border=\"1\" class=\"dataframe\">\n",
       "  <thead>\n",
       "    <tr style=\"text-align: right;\">\n",
       "      <th></th>\n",
       "      <th>Unnamed: 0</th>\n",
       "      <th>shortName</th>\n",
       "      <th>symbol</th>\n",
       "      <th>financialCurrency</th>\n",
       "      <th>returnOnAssets</th>\n",
       "      <th>revenueGrowth</th>\n",
       "      <th>grossMargins</th>\n",
       "      <th>ebitdaMargins</th>\n",
       "      <th>trailingPE</th>\n",
       "      <th>beta</th>\n",
       "      <th>cluster</th>\n",
       "    </tr>\n",
       "  </thead>\n",
       "  <tbody>\n",
       "    <tr>\n",
       "      <th>0</th>\n",
       "      <td>1</td>\n",
       "      <td>DUERR AG O.N.</td>\n",
       "      <td>DUE.DE</td>\n",
       "      <td>EUR</td>\n",
       "      <td>0.01104</td>\n",
       "      <td>0.091</td>\n",
       "      <td>0.20667</td>\n",
       "      <td>0.04322</td>\n",
       "      <td>125.410960</td>\n",
       "      <td>1.750285</td>\n",
       "      <td>6</td>\n",
       "    </tr>\n",
       "    <tr>\n",
       "      <th>1</th>\n",
       "      <td>3</td>\n",
       "      <td>COMPUGROUP MED. NA O.N.</td>\n",
       "      <td>COP.DE</td>\n",
       "      <td>EUR</td>\n",
       "      <td>0.04650</td>\n",
       "      <td>0.316</td>\n",
       "      <td>0.37123</td>\n",
       "      <td>0.17535</td>\n",
       "      <td>52.999240</td>\n",
       "      <td>0.836374</td>\n",
       "      <td>0</td>\n",
       "    </tr>\n",
       "    <tr>\n",
       "      <th>2</th>\n",
       "      <td>4</td>\n",
       "      <td>NFON AG  INH O.N.</td>\n",
       "      <td>NFN.DE</td>\n",
       "      <td>EUR</td>\n",
       "      <td>-0.01891</td>\n",
       "      <td>0.160</td>\n",
       "      <td>0.38878</td>\n",
       "      <td>0.01379</td>\n",
       "      <td>52.999240</td>\n",
       "      <td>1.646321</td>\n",
       "      <td>6</td>\n",
       "    </tr>\n",
       "    <tr>\n",
       "      <th>3</th>\n",
       "      <td>5</td>\n",
       "      <td>MEDARTIS N</td>\n",
       "      <td>MED.SW</td>\n",
       "      <td>CHF</td>\n",
       "      <td>0.02513</td>\n",
       "      <td>0.291</td>\n",
       "      <td>0.83734</td>\n",
       "      <td>0.14498</td>\n",
       "      <td>105.835800</td>\n",
       "      <td>0.771998</td>\n",
       "      <td>2</td>\n",
       "    </tr>\n",
       "    <tr>\n",
       "      <th>4</th>\n",
       "      <td>6</td>\n",
       "      <td>SAP SE</td>\n",
       "      <td>SAP.DE</td>\n",
       "      <td>EUR</td>\n",
       "      <td>0.06056</td>\n",
       "      <td>-0.011</td>\n",
       "      <td>0.71777</td>\n",
       "      <td>0.26134</td>\n",
       "      <td>23.425348</td>\n",
       "      <td>0.927594</td>\n",
       "      <td>2</td>\n",
       "    </tr>\n",
       "  </tbody>\n",
       "</table>\n",
       "</div>"
      ],
      "text/plain": [
       "   Unnamed: 0                shortName  symbol financialCurrency  \\\n",
       "0           1            DUERR AG O.N.  DUE.DE               EUR   \n",
       "1           3  COMPUGROUP MED. NA O.N.  COP.DE               EUR   \n",
       "2           4        NFON AG  INH O.N.  NFN.DE               EUR   \n",
       "3           5               MEDARTIS N  MED.SW               CHF   \n",
       "4           6                   SAP SE  SAP.DE               EUR   \n",
       "\n",
       "   returnOnAssets  revenueGrowth  grossMargins  ebitdaMargins  trailingPE  \\\n",
       "0         0.01104          0.091       0.20667        0.04322  125.410960   \n",
       "1         0.04650          0.316       0.37123        0.17535   52.999240   \n",
       "2        -0.01891          0.160       0.38878        0.01379   52.999240   \n",
       "3         0.02513          0.291       0.83734        0.14498  105.835800   \n",
       "4         0.06056         -0.011       0.71777        0.26134   23.425348   \n",
       "\n",
       "       beta  cluster  \n",
       "0  1.750285        6  \n",
       "1  0.836374        0  \n",
       "2  1.646321        6  \n",
       "3  0.771998        2  \n",
       "4  0.927594        2  "
      ]
     },
     "execution_count": 23,
     "metadata": {},
     "output_type": "execute_result"
    }
   ],
   "source": [
    "df = xlsx_df('df_k_687_2021.10.06 01_34_53.xlsx')\n",
    "display(df.loc[0:3,'Unnamed: 0'])\n",
    "df.head()"
   ]
  },
  {
   "cell_type": "code",
   "execution_count": 24,
   "id": "5e028de0",
   "metadata": {},
   "outputs": [],
   "source": [
    "#clean data set: in \"df_spotify\" and \"df\" we lower cases for song title and clean it from special characters.\n",
    "df['shortName'] = df['shortName'].apply(lambda x: x.capitalize().translate({ord(c): \"\" for c in \"!?/[]|{}.:()'\\\"\"}))"
   ]
  },
  {
   "cell_type": "code",
   "execution_count": 26,
   "id": "b0c279d9",
   "metadata": {},
   "outputs": [],
   "source": [
    "def get_input(): \n",
    "    shortName_input = input(\"What company do you want to check? \")\n",
    "    shortName_input = shortName_input.capitalize()\n",
    "    comp_match = df[df['shortName'].str.contains(shortName_input)]\n",
    "    if len(comp_match) > 0:\n",
    "        print(\"The following company was found in the database, let's take a closer look.\")\n",
    "        display(comp_match)\n",
    "    return shortName_input"
   ]
  },
  {
   "cell_type": "code",
   "execution_count": 27,
   "id": "66ab9cfd",
   "metadata": {},
   "outputs": [
    {
     "name": "stdout",
     "output_type": "stream",
     "text": [
      "What company do you want to check? apple\n",
      "The following company was found in the database, let's take a closer look.\n"
     ]
    },
    {
     "data": {
      "text/html": [
       "<div>\n",
       "<style scoped>\n",
       "    .dataframe tbody tr th:only-of-type {\n",
       "        vertical-align: middle;\n",
       "    }\n",
       "\n",
       "    .dataframe tbody tr th {\n",
       "        vertical-align: top;\n",
       "    }\n",
       "\n",
       "    .dataframe thead th {\n",
       "        text-align: right;\n",
       "    }\n",
       "</style>\n",
       "<table border=\"1\" class=\"dataframe\">\n",
       "  <thead>\n",
       "    <tr style=\"text-align: right;\">\n",
       "      <th></th>\n",
       "      <th>Unnamed: 0</th>\n",
       "      <th>shortName</th>\n",
       "      <th>symbol</th>\n",
       "      <th>financialCurrency</th>\n",
       "      <th>returnOnAssets</th>\n",
       "      <th>revenueGrowth</th>\n",
       "      <th>grossMargins</th>\n",
       "      <th>ebitdaMargins</th>\n",
       "      <th>trailingPE</th>\n",
       "      <th>beta</th>\n",
       "      <th>cluster</th>\n",
       "    </tr>\n",
       "  </thead>\n",
       "  <tbody>\n",
       "    <tr>\n",
       "      <th>315</th>\n",
       "      <td>342</td>\n",
       "      <td>Apple inc</td>\n",
       "      <td>AAPL</td>\n",
       "      <td>USD</td>\n",
       "      <td>0.19302</td>\n",
       "      <td>0.364</td>\n",
       "      <td>0.41005</td>\n",
       "      <td>0.31955</td>\n",
       "      <td>27.222006</td>\n",
       "      <td>1.222222</td>\n",
       "      <td>5</td>\n",
       "    </tr>\n",
       "  </tbody>\n",
       "</table>\n",
       "</div>"
      ],
      "text/plain": [
       "     Unnamed: 0  shortName symbol financialCurrency  returnOnAssets  \\\n",
       "315         342  Apple inc   AAPL               USD         0.19302   \n",
       "\n",
       "     revenueGrowth  grossMargins  ebitdaMargins  trailingPE      beta  cluster  \n",
       "315          0.364       0.41005        0.31955   27.222006  1.222222        5  "
      ]
     },
     "metadata": {},
     "output_type": "display_data"
    },
    {
     "data": {
      "text/plain": [
       "'Apple'"
      ]
     },
     "execution_count": 27,
     "metadata": {},
     "output_type": "execute_result"
    }
   ],
   "source": [
    "get_input()"
   ]
  },
  {
   "cell_type": "code",
   "execution_count": null,
   "id": "d905d0f7",
   "metadata": {},
   "outputs": [],
   "source": [
    "#Check if song is in large DB/ if input makes any sense\n",
    "def comp_check():\n",
    "    comp_check = df_spotify[df_spotify['track_name'].str.contains(song_input)]\n",
    "    if len(song_check0) > 0:\n",
    "        return song_check0 \n",
    "    elif len(comp_match) > 1:\n",
    "    else:\n",
    "        get_input()\n",
    "song_check0 = song_check_overall()"
   ]
  },
  {
   "cell_type": "code",
   "execution_count": null,
   "id": "27dbdfda",
   "metadata": {},
   "outputs": [],
   "source": [
    "# df['symbol']\n",
    "# user input = 'AAPL'\n",
    "# df.loc[df['symbol']==user input]\n",
    "# if len(df.loc[df['symbol']==user input]) ==1\n",
    "#    print('The following company was found:')\n",
    "#    elif len(df.loc[df['symbol']==user input]) > 1\n",
    "# df = df.loc"
   ]
  },
  {
   "cell_type": "code",
   "execution_count": null,
   "id": "3f0e7c07",
   "metadata": {},
   "outputs": [],
   "source": [
    "# Selection idea\n",
    "def user_selection():\n",
    "    for index, item in enumerate(options):\n",
    "                print(f\"Option {index + 1} - {item}\")\n",
    "            while True:\n",
    "                try: # Is used to avoid errors\n",
    "                    choice = int(input(\"Selection: \"))\n",
    "                    if choice >= 1 and choice <= len(options):\n",
    "                        return options[choice-1]\n",
    "                except:\n",
    "                    continue"
   ]
  }
 ],
 "metadata": {
  "kernelspec": {
   "display_name": "Python 3 (ipykernel)",
   "language": "python",
   "name": "python3"
  },
  "language_info": {
   "codemirror_mode": {
    "name": "ipython",
    "version": 3
   },
   "file_extension": ".py",
   "mimetype": "text/x-python",
   "name": "python",
   "nbconvert_exporter": "python",
   "pygments_lexer": "ipython3",
   "version": "3.9.7"
  }
 },
 "nbformat": 4,
 "nbformat_minor": 5
}
