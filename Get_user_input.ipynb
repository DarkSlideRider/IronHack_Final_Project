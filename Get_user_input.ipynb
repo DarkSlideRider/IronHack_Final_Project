{
 "cells": [
  {
   "cell_type": "code",
   "execution_count": 2,
   "id": "007ca740",
   "metadata": {},
   "outputs": [],
   "source": [
    "from random import randint\n",
    "from time import sleep\n",
    "import yfinance as yf\n",
    "import openpyxl\n",
    "import pandas as pd\n",
    "import numpy as np\n",
    "import matplotlib.pyplot as plt\n",
    "%matplotlib inline"
   ]
  },
  {
   "cell_type": "code",
   "execution_count": 7,
   "id": "7250a905",
   "metadata": {},
   "outputs": [],
   "source": [
    "def ticker(csv_file, ticker_col):\n",
    "    df = pd.read_csv(csv_file)\n",
    "    df_tick = df[ticker_col].drop_duplicates(keep='first').dropna()\n",
    "    return df_tick"
   ]
  },
  {
   "cell_type": "code",
   "execution_count": 8,
   "id": "dec9e2d9",
   "metadata": {},
   "outputs": [
    {
     "data": {
      "text/plain": [
       "0          A\n",
       "1         AA\n",
       "2       AABA\n",
       "3        AAC\n",
       "4       AADR\n",
       "        ... \n",
       "6363     ZTS\n",
       "6364    ZUMZ\n",
       "6365     ZUO\n",
       "6366    ZYME\n",
       "6367    ZYNE\n",
       "Name: ticker, Length: 6368, dtype: object"
      ]
     },
     "execution_count": 8,
     "metadata": {},
     "output_type": "execute_result"
    }
   ],
   "source": [
    "ticker(\"financial_ticker_largest.csv\", \"ticker\")"
   ]
  },
  {
   "cell_type": "code",
   "execution_count": 12,
   "id": "f871a3c7",
   "metadata": {},
   "outputs": [],
   "source": [
    "df_tick = ticker('financials ticker SnP500.csv', 'Symbol')"
   ]
  },
  {
   "cell_type": "code",
   "execution_count": 16,
   "id": "37a08f5f",
   "metadata": {},
   "outputs": [
    {
     "data": {
      "text/plain": [
       "[0       MMM\n",
       " 1       AOS\n",
       " 2       ABT\n",
       " 3      ABBV\n",
       " 4       ACN\n",
       "        ... \n",
       " 248     ICE\n",
       " 249     IBM\n",
       " 250      IP\n",
       " 251     IPG\n",
       " 252     IFF\n",
       " Name: Symbol, Length: 253, dtype: object,\n",
       " 253    INTU\n",
       " 254    ISRG\n",
       " 255     IVZ\n",
       " 256     IQV\n",
       " 257     IRM\n",
       "        ... \n",
       " 500     XYL\n",
       " 501     YUM\n",
       " 502     ZBH\n",
       " 503    ZION\n",
       " 504     ZTS\n",
       " Name: Symbol, Length: 252, dtype: object]"
      ]
     },
     "execution_count": 16,
     "metadata": {},
     "output_type": "execute_result"
    }
   ],
   "source": [
    "df_tick2 = np.array_split(df_tick, 2)\n",
    "df_tick2"
   ]
  },
  {
   "cell_type": "code",
   "execution_count": null,
   "id": "442bf141",
   "metadata": {},
   "outputs": [],
   "source": [
    "def get_input(): \n",
    "    comp_input = input(\"What company do you want to check? \")\n",
    "    comp_input = comp_input.lower()\n",
    "    return comp_input\n",
    "song_input = get_input()\n",
    "\n",
    "#Check if song is in large DB/ if input makes any sense\n",
    "def comp_check():\n",
    "    comp_check = df_spotify[df_spotify['track_name'].str.contains(song_input)]\n",
    "    if len(song_check0) > 0:\n",
    "        return song_check0 \n",
    "    else:\n",
    "        get_input()\n",
    "song_check0 = song_check_overall()"
   ]
  },
  {
   "cell_type": "code",
   "execution_count": null,
   "id": "6b7c7cfd",
   "metadata": {},
   "outputs": [],
   "source": [
    "# Selection idea\n",
    "def user_selection():\n",
    "    for index, item in enumerate(options):\n",
    "                print(f\"Option {index + 1} - {item}\")\n",
    "            while True:\n",
    "                try: # Is used to avoid errors\n",
    "                    choice = int(input(\"Selection: \"))\n",
    "                    if choice >= 1 and choice <= len(options):\n",
    "                        return options[choice-1]\n",
    "                except:\n",
    "                    continue"
   ]
  },
  {
   "cell_type": "code",
   "execution_count": null,
   "id": "851dcf19",
   "metadata": {},
   "outputs": [],
   "source": [
    "# df['symbol']\n",
    "# user input = 'AAPL'\n",
    "# df.loc[df['symbol']==user input]\n",
    "# if len(df.loc[df['symbol']==user input]) ==1\n",
    "#    print('The following company was found:')\n",
    "#    elif len(df.loc[df['symbol']==user input]) > 1\n",
    "# df = df.loc"
   ]
  }
 ],
 "metadata": {
  "kernelspec": {
   "display_name": "Python 3 (ipykernel)",
   "language": "python",
   "name": "python3"
  },
  "language_info": {
   "codemirror_mode": {
    "name": "ipython",
    "version": 3
   },
   "file_extension": ".py",
   "mimetype": "text/x-python",
   "name": "python",
   "nbconvert_exporter": "python",
   "pygments_lexer": "ipython3",
   "version": "3.9.7"
  }
 },
 "nbformat": 4,
 "nbformat_minor": 5
}
