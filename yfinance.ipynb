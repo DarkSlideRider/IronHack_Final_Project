{
 "cells": [
  {
   "cell_type": "code",
   "execution_count": 1,
   "id": "87f7b5d0",
   "metadata": {},
   "outputs": [],
   "source": [
    "from random import randint\n",
    "from time import sleep\n",
    "import yfinance as yf\n",
    "import openpyxl\n",
    "import pandas as pd\n",
    "import numpy as np\n",
    "import matplotlib.pyplot as plt\n",
    "%matplotlib inline"
   ]
  },
  {
   "cell_type": "code",
   "execution_count": null,
   "id": "bd76205d",
   "metadata": {},
   "outputs": [],
   "source": [
    "# Getting data for a single ticker or a list, plotting it and storing it \n",
    "\n",
    "# Set the start and end date\n",
    "start_date = '2005-01-01'\n",
    "end_date = '2021-09-28'\n",
    "\n",
    "# Set the ticker\n",
    "ticker_list = ['BAS.DE']\n",
    "\n",
    "# Get the data\n",
    "data = yf.download(ticker_list, start_date, end_date)\n",
    "\n",
    "# Last 5 rows\n",
    "data.tail()\n",
    "\n",
    "\n",
    "# Plot adjusted close price data\n",
    "data['Adj Close'].plot(figsize=(12,10))\n",
    "\n",
    "# Define the label for the title of the figure\n",
    "plt.title(\"Adj. Close Price of %s\" % ticker, fontsize=14)\n",
    "\n",
    "# Define the labels for x-axis and y-axis\n",
    "plt.ylabel('Price', fontsize=12)\n",
    "plt.xlabel('Year', fontsize=12)\n",
    "\n",
    "# Plot grid lines\n",
    "plt.grid(which=\"major\", color='grey', linestyle='-', linewidth=0.2)\n",
    "\n",
    "# Show plot\n",
    "plt.show()"
   ]
  },
  {
   "cell_type": "code",
   "execution_count": null,
   "id": "f5196ac2",
   "metadata": {},
   "outputs": [],
   "source": [
    "# ticker list instead of single ticker\n",
    "tickers_list = ['AAPL', 'IBM', 'MSFT', 'WMT']\n",
    "\n",
    "# use \"period\" instead of start/end \n",
    "# valid periods: 1d,5d,1mo,3mo,6mo,1y,2y,5y,10y,ytd,max\n",
    "# period = \"ytd\" (optional, default is '1mo')\n",
    "\n",
    "# fetch data by interval (including intraday if period < 60 days)\n",
    "# valid intervals: 1m,2m,5m,15m,30m,60m,90m,1h,1d,5d,1wk,1mo,3mo\n",
    "# interval = \"1wk\" (optional, default is '1d')\n",
    "\n",
    "# create placeholder for data\n",
    "data_list = pd.DataFrame(columns=tickers_list)\n",
    "\n",
    "# fetch the data\n",
    "for ticker in tickers_list:\n",
    "    data_list[ticker] = yf.download(ticker, period = \"ytd\", interval = \"1wk\")['Adj Close']\n",
    "    \n",
    "# Print first 5 rows of the data\n",
    "data_list.head()"
   ]
  },
  {
   "cell_type": "code",
   "execution_count": null,
   "id": "2c423eab",
   "metadata": {},
   "outputs": [],
   "source": [
    "data_list.plot(figsize=(14, 10))\n",
    "\n",
    "# Show the legend\n",
    "plt.legend()\n",
    "\n",
    "plt.title(\"Adjusted Close Price\", fontsize=14)\n",
    "plt.ylabel('Price', fontsize=12)\n",
    "plt.xlabel('Year', fontsize=12)\n",
    "\n",
    "plt.grid(which=\"major\", color='k', linestyle='-.', linewidth=0.2)\n",
    "plt.show()"
   ]
  },
  {
   "cell_type": "code",
   "execution_count": null,
   "id": "77e9a10d",
   "metadata": {},
   "outputs": [],
   "source": [
    "# Fundamental data\n",
    "\n",
    "# Set the ticker as MSFT\n",
    "msft = yf.Ticker(\"MSFT\")\n",
    "info_49 = {}\n",
    "info_49 = msft.info\n",
    "#df_temp = pd.DataFrame.from_dict(info_49)\n",
    "# get price to book\n",
    "#pb = msft.info['priceToBook']\n",
    "#pe = msft.info['regularMarketPrice']/msft.info['ebitda']\n",
    "#print('Price to Book Ratio is: %.4f' % pb)\n",
    "#print('Price to Earnings Ratio is: %.2f' % pe)"
   ]
  },
  {
   "cell_type": "code",
   "execution_count": null,
   "id": "37cb22c1",
   "metadata": {},
   "outputs": [],
   "source": [
    "df_sa = pd.read_csv(\"advisor stocks.csv\")\n",
    "df_sa"
   ]
  },
  {
   "cell_type": "code",
   "execution_count": null,
   "id": "47bd61da",
   "metadata": {},
   "outputs": [],
   "source": [
    "df=df_sa['ticker'].drop_duplicates(keep='first').dropna()\n",
    "df"
   ]
  },
  {
   "cell_type": "code",
   "execution_count": null,
   "id": "ebc6a9a6",
   "metadata": {},
   "outputs": [],
   "source": [
    "n=20\n",
    "ticker_parts = np.array_split(df, n)"
   ]
  },
  {
   "cell_type": "code",
   "execution_count": null,
   "id": "42a179f8",
   "metadata": {},
   "outputs": [],
   "source": [
    "print(ticker_parts)"
   ]
  },
  {
   "cell_type": "code",
   "execution_count": null,
   "id": "f2125065",
   "metadata": {},
   "outputs": [],
   "source": [
    "df_sa=[(df_sa[\"stock_exchange_suffix\"]!= 'NaN')]\n",
    "df_sa"
   ]
  },
  {
   "cell_type": "code",
   "execution_count": null,
   "id": "91507890",
   "metadata": {},
   "outputs": [],
   "source": [
    "# show other info\n",
    "ticker_list = ['BZ6.F',\t'DUE.DE',\t'EXL.DE',\t'COP.DE',\t'NFN.DE',\t'MED.SW',\t'SAP.DE',\t'EVT.DE',\t\n",
    "               'EXL.DE',\t'SANT.DE',\t'AAG.DE',\t'LPK.DE',\t'OSP2.DE',\t'VQT.DE',\t'ADN1.DE',\t'SHF.DE',\t\n",
    "               'SANT.DE',\t'AOF.DE'] # example list\n",
    "ticker_info_dict = {}\n",
    "ticker_info_dict2 = {}\n",
    "info_list = []\n",
    "for ticker in ticker_list:\n",
    "    ticker_item = yf.Ticker(ticker)\n",
    "    ticker_info_dict = ticker_item.info\n",
    "\n",
    "    for key, value in ticker_info_dict.items():\n",
    "        ticker_info_dict2[key] = [value]\n",
    "    \n",
    "    a = pd.DataFrame.from_dict(ticker_info_dict2)\n",
    "    info_list.append(a)\n",
    "df_info = pd.concat(info_list, sort=False)\n",
    "df_info.fillna(0)\n",
    "df_info.to_excel('test.info2.xlsx')"
   ]
  },
  {
   "cell_type": "code",
   "execution_count": null,
   "id": "61a16d27",
   "metadata": {},
   "outputs": [],
   "source": [
    "df_info[['longName', 'symbol']]"
   ]
  },
  {
   "cell_type": "code",
   "execution_count": null,
   "id": "58b9c2f8",
   "metadata": {},
   "outputs": [],
   "source": [
    "df_info.to_excel('test.info2.xlsx')"
   ]
  },
  {
   "cell_type": "code",
   "execution_count": null,
   "id": "01064e55",
   "metadata": {},
   "outputs": [],
   "source": [
    "# Within dict. values have to be iterable (lists, tuples, dict., sets)\n",
    "#df = pd.DataFrame(data=dic_msft)\n",
    "dic2 = {}\n",
    "for key, value in dic_msft.items():\n",
    "    dic_msft[key] = [value]"
   ]
  },
  {
   "cell_type": "code",
   "execution_count": null,
   "id": "3cf9f55a",
   "metadata": {},
   "outputs": [],
   "source": [
    "dic_msft"
   ]
  },
  {
   "cell_type": "code",
   "execution_count": null,
   "id": "4f905072",
   "metadata": {
    "scrolled": true
   },
   "outputs": [],
   "source": [
    "df_msft = pd.DataFrame.from_dict(dic_msft)"
   ]
  },
  {
   "cell_type": "code",
   "execution_count": null,
   "id": "f08d2422",
   "metadata": {},
   "outputs": [],
   "source": [
    "df_msft"
   ]
  },
  {
   "cell_type": "code",
   "execution_count": null,
   "id": "eebe9c8a",
   "metadata": {},
   "outputs": [],
   "source": [
    "df_msft.to_excel(\"msft.info.xlsx\")"
   ]
  },
  {
   "cell_type": "code",
   "execution_count": null,
   "id": "bb875b9f",
   "metadata": {},
   "outputs": [],
   "source": [
    "# show income statement\n",
    "dic_msft_fin={}\n",
    "#dic_msft_fin = msft.financials\n",
    "#msft.quarterly_financials\n",
    "\n",
    "# show balance heet\n",
    "dic_msft_bal={}\n",
    "dic_msft_bal=msft.balance_sheet\n",
    "msft.quarterly_balance_sheet\n",
    "\n",
    "# show cashflow\n",
    "dic_msft_cash={}\n",
    "#dic_msft_cash=msft.cashflow\n",
    "#msft.quarterly_cashflow\n",
    "\n",
    "# show earnings\n",
    "msft.earnings\n",
    "msft.quarterly_earnings\n",
    "\n",
    "# show sustainability\n",
    "msft_profile=msft.sustainability\n",
    "\n",
    "# show analysts recommendations\n",
    "msft.recommendations\n",
    "\n",
    "# show major holders\n",
    "msft.major_holders\n",
    "\n",
    "# show institutional holders\n",
    "msft.institutional_holders"
   ]
  },
  {
   "cell_type": "code",
   "execution_count": null,
   "id": "bd364a19",
   "metadata": {},
   "outputs": [],
   "source": [
    "dic_msft_fin.to_excel(\"msft.fin.xlsx\")\n",
    "dic_msft_bal.to_excel(\"msft.bal.xlsx\")\n",
    "dic_msft_cash.to_excel(\"msft.cash.xlsx\")"
   ]
  },
  {
   "cell_type": "code",
   "execution_count": null,
   "id": "4bd22d73",
   "metadata": {},
   "outputs": [],
   "source": [
    "msft_sustain=mssft_profile"
   ]
  },
  {
   "cell_type": "code",
   "execution_count": null,
   "id": "3cfe8b74",
   "metadata": {},
   "outputs": [],
   "source": [
    "# df['symbol']\n",
    "# user input = 'AAPL'\n",
    "# df.loc[df['symbol']==user input]\n",
    "# if len(df.loc[df['symbol']==user input]) ==1\n",
    "#    print('The following company was found:')\n",
    "#    elif len(df.loc[df['symbol']==user input]) > 1\n",
    "# df = df.loc\n",
    "    "
   ]
  },
  {
   "cell_type": "code",
   "execution_count": null,
   "id": "93063708",
   "metadata": {},
   "outputs": [],
   "source": [
    "# Selection idea\n",
    "def user_selection():\n",
    "    for index, item in enumerate(options):\n",
    "                print(f\"Option {index + 1} - {item}\")\n",
    "            while True:\n",
    "                try: # Is used to avoid errors\n",
    "                    choice = int(input(\"Selection: \"))\n",
    "                    if choice >= 1 and choice <= len(options):\n",
    "                        return options[choice-1]\n",
    "                except:\n",
    "                    continue"
   ]
  }
 ],
 "metadata": {
  "kernelspec": {
   "display_name": "Python 3 (ipykernel)",
   "language": "python",
   "name": "python3"
  },
  "language_info": {
   "codemirror_mode": {
    "name": "ipython",
    "version": 3
   },
   "file_extension": ".py",
   "mimetype": "text/x-python",
   "name": "python",
   "nbconvert_exporter": "python",
   "pygments_lexer": "ipython3",
   "version": "3.9.7"
  }
 },
 "nbformat": 4,
 "nbformat_minor": 5
}
